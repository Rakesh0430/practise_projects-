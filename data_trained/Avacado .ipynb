{
 "cells": [
  {
   "cell_type": "code",
   "execution_count": 127,
   "id": "e53e6e4b",
   "metadata": {},
   "outputs": [],
   "source": [
    "import pandas as pd\n",
    "import numpy as np\n",
    "import seaborn as sns\n",
    "import matplotlib.pyplot as plt\n",
    "import warnings\n",
    "warnings.filterwarnings('ignore')"
   ]
  },
  {
   "cell_type": "code",
   "execution_count": 128,
   "id": "a40e309c",
   "metadata": {},
   "outputs": [],
   "source": [
    "df=pd.read_csv('https://raw.githubusercontent.com/dsrscientist/Data-Science-ML-Capstone-Projects/master/avocado.csv')"
   ]
  },
  {
   "cell_type": "code",
   "execution_count": 291,
   "id": "b7345ac6",
   "metadata": {},
   "outputs": [
    {
     "data": {
      "text/html": [
       "<div>\n",
       "<style scoped>\n",
       "    .dataframe tbody tr th:only-of-type {\n",
       "        vertical-align: middle;\n",
       "    }\n",
       "\n",
       "    .dataframe tbody tr th {\n",
       "        vertical-align: top;\n",
       "    }\n",
       "\n",
       "    .dataframe thead th {\n",
       "        text-align: right;\n",
       "    }\n",
       "</style>\n",
       "<table border=\"1\" class=\"dataframe\">\n",
       "  <thead>\n",
       "    <tr style=\"text-align: right;\">\n",
       "      <th></th>\n",
       "      <th>Unnamed: 0</th>\n",
       "      <th>Date</th>\n",
       "      <th>AveragePrice</th>\n",
       "      <th>Total Volume</th>\n",
       "      <th>4046</th>\n",
       "      <th>4225</th>\n",
       "      <th>4770</th>\n",
       "      <th>Total Bags</th>\n",
       "      <th>Small Bags</th>\n",
       "      <th>Large Bags</th>\n",
       "      <th>XLarge Bags</th>\n",
       "      <th>type</th>\n",
       "      <th>year</th>\n",
       "      <th>region</th>\n",
       "    </tr>\n",
       "  </thead>\n",
       "  <tbody>\n",
       "    <tr>\n",
       "      <th>0</th>\n",
       "      <td>0.0</td>\n",
       "      <td>27-12-2015</td>\n",
       "      <td>1.33</td>\n",
       "      <td>64236.62</td>\n",
       "      <td>1036.74</td>\n",
       "      <td>54454.85</td>\n",
       "      <td>48.16</td>\n",
       "      <td>8696.87</td>\n",
       "      <td>8603.62</td>\n",
       "      <td>93.25</td>\n",
       "      <td>0.0</td>\n",
       "      <td>conventional</td>\n",
       "      <td>2015.0</td>\n",
       "      <td>Albany</td>\n",
       "    </tr>\n",
       "    <tr>\n",
       "      <th>1</th>\n",
       "      <td>1.0</td>\n",
       "      <td>20-12-2015</td>\n",
       "      <td>1.35</td>\n",
       "      <td>54876.98</td>\n",
       "      <td>674.28</td>\n",
       "      <td>44638.81</td>\n",
       "      <td>58.33</td>\n",
       "      <td>9505.56</td>\n",
       "      <td>9408.07</td>\n",
       "      <td>97.49</td>\n",
       "      <td>0.0</td>\n",
       "      <td>conventional</td>\n",
       "      <td>2015.0</td>\n",
       "      <td>Albany</td>\n",
       "    </tr>\n",
       "    <tr>\n",
       "      <th>2</th>\n",
       "      <td>2.0</td>\n",
       "      <td>13-12-2015</td>\n",
       "      <td>0.93</td>\n",
       "      <td>118220.22</td>\n",
       "      <td>794.70</td>\n",
       "      <td>109149.67</td>\n",
       "      <td>130.50</td>\n",
       "      <td>8145.35</td>\n",
       "      <td>8042.21</td>\n",
       "      <td>103.14</td>\n",
       "      <td>0.0</td>\n",
       "      <td>conventional</td>\n",
       "      <td>2015.0</td>\n",
       "      <td>Albany</td>\n",
       "    </tr>\n",
       "    <tr>\n",
       "      <th>3</th>\n",
       "      <td>3.0</td>\n",
       "      <td>06-12-2015</td>\n",
       "      <td>1.08</td>\n",
       "      <td>78992.15</td>\n",
       "      <td>1132.00</td>\n",
       "      <td>71976.41</td>\n",
       "      <td>72.58</td>\n",
       "      <td>5811.16</td>\n",
       "      <td>5677.40</td>\n",
       "      <td>133.76</td>\n",
       "      <td>0.0</td>\n",
       "      <td>conventional</td>\n",
       "      <td>2015.0</td>\n",
       "      <td>Albany</td>\n",
       "    </tr>\n",
       "    <tr>\n",
       "      <th>4</th>\n",
       "      <td>4.0</td>\n",
       "      <td>29-11-2015</td>\n",
       "      <td>1.28</td>\n",
       "      <td>51039.60</td>\n",
       "      <td>941.48</td>\n",
       "      <td>43838.39</td>\n",
       "      <td>75.78</td>\n",
       "      <td>6183.95</td>\n",
       "      <td>5986.26</td>\n",
       "      <td>197.69</td>\n",
       "      <td>0.0</td>\n",
       "      <td>conventional</td>\n",
       "      <td>2015.0</td>\n",
       "      <td>Albany</td>\n",
       "    </tr>\n",
       "    <tr>\n",
       "      <th>5</th>\n",
       "      <td>5.0</td>\n",
       "      <td>22-11-2015</td>\n",
       "      <td>1.26</td>\n",
       "      <td>55979.78</td>\n",
       "      <td>1184.27</td>\n",
       "      <td>48067.99</td>\n",
       "      <td>43.61</td>\n",
       "      <td>6683.91</td>\n",
       "      <td>6556.47</td>\n",
       "      <td>127.44</td>\n",
       "      <td>0.0</td>\n",
       "      <td>conventional</td>\n",
       "      <td>2015.0</td>\n",
       "      <td>Albany</td>\n",
       "    </tr>\n",
       "    <tr>\n",
       "      <th>6</th>\n",
       "      <td>6.0</td>\n",
       "      <td>15-11-2015</td>\n",
       "      <td>0.99</td>\n",
       "      <td>83453.76</td>\n",
       "      <td>1368.92</td>\n",
       "      <td>73672.72</td>\n",
       "      <td>93.26</td>\n",
       "      <td>8318.86</td>\n",
       "      <td>8196.81</td>\n",
       "      <td>122.05</td>\n",
       "      <td>0.0</td>\n",
       "      <td>conventional</td>\n",
       "      <td>2015.0</td>\n",
       "      <td>Albany</td>\n",
       "    </tr>\n",
       "    <tr>\n",
       "      <th>7</th>\n",
       "      <td>7.0</td>\n",
       "      <td>08-11-2015</td>\n",
       "      <td>0.98</td>\n",
       "      <td>109428.33</td>\n",
       "      <td>703.75</td>\n",
       "      <td>101815.36</td>\n",
       "      <td>80.00</td>\n",
       "      <td>6829.22</td>\n",
       "      <td>6266.85</td>\n",
       "      <td>562.37</td>\n",
       "      <td>0.0</td>\n",
       "      <td>conventional</td>\n",
       "      <td>2015.0</td>\n",
       "      <td>Albany</td>\n",
       "    </tr>\n",
       "    <tr>\n",
       "      <th>8</th>\n",
       "      <td>8.0</td>\n",
       "      <td>01-11-2015</td>\n",
       "      <td>1.02</td>\n",
       "      <td>99811.42</td>\n",
       "      <td>1022.15</td>\n",
       "      <td>87315.57</td>\n",
       "      <td>85.34</td>\n",
       "      <td>11388.36</td>\n",
       "      <td>11104.53</td>\n",
       "      <td>283.83</td>\n",
       "      <td>0.0</td>\n",
       "      <td>conventional</td>\n",
       "      <td>2015.0</td>\n",
       "      <td>Albany</td>\n",
       "    </tr>\n",
       "    <tr>\n",
       "      <th>9</th>\n",
       "      <td>9.0</td>\n",
       "      <td>25-10-2015</td>\n",
       "      <td>1.07</td>\n",
       "      <td>74338.76</td>\n",
       "      <td>842.40</td>\n",
       "      <td>64757.44</td>\n",
       "      <td>113.00</td>\n",
       "      <td>8625.92</td>\n",
       "      <td>8061.47</td>\n",
       "      <td>564.45</td>\n",
       "      <td>0.0</td>\n",
       "      <td>conventional</td>\n",
       "      <td>2015.0</td>\n",
       "      <td>Albany</td>\n",
       "    </tr>\n",
       "    <tr>\n",
       "      <th>10</th>\n",
       "      <td>10.0</td>\n",
       "      <td>18-10-2015</td>\n",
       "      <td>1.12</td>\n",
       "      <td>84843.44</td>\n",
       "      <td>924.86</td>\n",
       "      <td>75595.85</td>\n",
       "      <td>117.07</td>\n",
       "      <td>8205.66</td>\n",
       "      <td>7877.86</td>\n",
       "      <td>327.80</td>\n",
       "      <td>0.0</td>\n",
       "      <td>conventional</td>\n",
       "      <td>2015.0</td>\n",
       "      <td>Albany</td>\n",
       "    </tr>\n",
       "    <tr>\n",
       "      <th>11</th>\n",
       "      <td>11.0</td>\n",
       "      <td>11-10-2015</td>\n",
       "      <td>1.28</td>\n",
       "      <td>64489.17</td>\n",
       "      <td>1582.03</td>\n",
       "      <td>52677.92</td>\n",
       "      <td>105.32</td>\n",
       "      <td>10123.90</td>\n",
       "      <td>9866.27</td>\n",
       "      <td>257.63</td>\n",
       "      <td>0.0</td>\n",
       "      <td>conventional</td>\n",
       "      <td>2015.0</td>\n",
       "      <td>Albany</td>\n",
       "    </tr>\n",
       "    <tr>\n",
       "      <th>12</th>\n",
       "      <td>12.0</td>\n",
       "      <td>04-10-2015</td>\n",
       "      <td>1.31</td>\n",
       "      <td>61007.10</td>\n",
       "      <td>2268.32</td>\n",
       "      <td>49880.67</td>\n",
       "      <td>101.36</td>\n",
       "      <td>8756.75</td>\n",
       "      <td>8379.98</td>\n",
       "      <td>376.77</td>\n",
       "      <td>0.0</td>\n",
       "      <td>conventional</td>\n",
       "      <td>2015.0</td>\n",
       "      <td>Albany</td>\n",
       "    </tr>\n",
       "    <tr>\n",
       "      <th>13</th>\n",
       "      <td>13.0</td>\n",
       "      <td>27-09-2015</td>\n",
       "      <td>0.99</td>\n",
       "      <td>106803.39</td>\n",
       "      <td>1204.88</td>\n",
       "      <td>99409.21</td>\n",
       "      <td>154.84</td>\n",
       "      <td>6034.46</td>\n",
       "      <td>5888.87</td>\n",
       "      <td>145.59</td>\n",
       "      <td>0.0</td>\n",
       "      <td>conventional</td>\n",
       "      <td>2015.0</td>\n",
       "      <td>Albany</td>\n",
       "    </tr>\n",
       "    <tr>\n",
       "      <th>14</th>\n",
       "      <td>14.0</td>\n",
       "      <td>20-09-2015</td>\n",
       "      <td>1.33</td>\n",
       "      <td>69759.01</td>\n",
       "      <td>1028.03</td>\n",
       "      <td>59313.12</td>\n",
       "      <td>150.50</td>\n",
       "      <td>9267.36</td>\n",
       "      <td>8489.10</td>\n",
       "      <td>778.26</td>\n",
       "      <td>0.0</td>\n",
       "      <td>conventional</td>\n",
       "      <td>2015.0</td>\n",
       "      <td>Albany</td>\n",
       "    </tr>\n",
       "  </tbody>\n",
       "</table>\n",
       "</div>"
      ],
      "text/plain": [
       "    Unnamed: 0        Date  AveragePrice  Total Volume     4046       4225  \\\n",
       "0          0.0  27-12-2015          1.33      64236.62  1036.74   54454.85   \n",
       "1          1.0  20-12-2015          1.35      54876.98   674.28   44638.81   \n",
       "2          2.0  13-12-2015          0.93     118220.22   794.70  109149.67   \n",
       "3          3.0  06-12-2015          1.08      78992.15  1132.00   71976.41   \n",
       "4          4.0  29-11-2015          1.28      51039.60   941.48   43838.39   \n",
       "5          5.0  22-11-2015          1.26      55979.78  1184.27   48067.99   \n",
       "6          6.0  15-11-2015          0.99      83453.76  1368.92   73672.72   \n",
       "7          7.0  08-11-2015          0.98     109428.33   703.75  101815.36   \n",
       "8          8.0  01-11-2015          1.02      99811.42  1022.15   87315.57   \n",
       "9          9.0  25-10-2015          1.07      74338.76   842.40   64757.44   \n",
       "10        10.0  18-10-2015          1.12      84843.44   924.86   75595.85   \n",
       "11        11.0  11-10-2015          1.28      64489.17  1582.03   52677.92   \n",
       "12        12.0  04-10-2015          1.31      61007.10  2268.32   49880.67   \n",
       "13        13.0  27-09-2015          0.99     106803.39  1204.88   99409.21   \n",
       "14        14.0  20-09-2015          1.33      69759.01  1028.03   59313.12   \n",
       "\n",
       "      4770  Total Bags  Small Bags  Large Bags  XLarge Bags          type  \\\n",
       "0    48.16     8696.87     8603.62       93.25          0.0  conventional   \n",
       "1    58.33     9505.56     9408.07       97.49          0.0  conventional   \n",
       "2   130.50     8145.35     8042.21      103.14          0.0  conventional   \n",
       "3    72.58     5811.16     5677.40      133.76          0.0  conventional   \n",
       "4    75.78     6183.95     5986.26      197.69          0.0  conventional   \n",
       "5    43.61     6683.91     6556.47      127.44          0.0  conventional   \n",
       "6    93.26     8318.86     8196.81      122.05          0.0  conventional   \n",
       "7    80.00     6829.22     6266.85      562.37          0.0  conventional   \n",
       "8    85.34    11388.36    11104.53      283.83          0.0  conventional   \n",
       "9   113.00     8625.92     8061.47      564.45          0.0  conventional   \n",
       "10  117.07     8205.66     7877.86      327.80          0.0  conventional   \n",
       "11  105.32    10123.90     9866.27      257.63          0.0  conventional   \n",
       "12  101.36     8756.75     8379.98      376.77          0.0  conventional   \n",
       "13  154.84     6034.46     5888.87      145.59          0.0  conventional   \n",
       "14  150.50     9267.36     8489.10      778.26          0.0  conventional   \n",
       "\n",
       "      year  region  \n",
       "0   2015.0  Albany  \n",
       "1   2015.0  Albany  \n",
       "2   2015.0  Albany  \n",
       "3   2015.0  Albany  \n",
       "4   2015.0  Albany  \n",
       "5   2015.0  Albany  \n",
       "6   2015.0  Albany  \n",
       "7   2015.0  Albany  \n",
       "8   2015.0  Albany  \n",
       "9   2015.0  Albany  \n",
       "10  2015.0  Albany  \n",
       "11  2015.0  Albany  \n",
       "12  2015.0  Albany  \n",
       "13  2015.0  Albany  \n",
       "14  2015.0  Albany  "
      ]
     },
     "execution_count": 291,
     "metadata": {},
     "output_type": "execute_result"
    }
   ],
   "source": [
    "df.head(15)"
   ]
  },
  {
   "cell_type": "code",
   "execution_count": 130,
   "id": "e32a048d",
   "metadata": {},
   "outputs": [],
   "source": [
    "##EDA"
   ]
  },
  {
   "cell_type": "code",
   "execution_count": 131,
   "id": "fb9ce27d",
   "metadata": {},
   "outputs": [
    {
     "data": {
      "text/plain": [
       "(16468, 14)"
      ]
     },
     "execution_count": 131,
     "metadata": {},
     "output_type": "execute_result"
    }
   ],
   "source": [
    "df.shape"
   ]
  },
  {
   "cell_type": "code",
   "execution_count": 132,
   "id": "d0ce52cc",
   "metadata": {},
   "outputs": [
    {
     "data": {
      "text/plain": [
       "Unnamed: 0        52\n",
       "Date             104\n",
       "AveragePrice     113\n",
       "Total Volume    1517\n",
       "4046            1517\n",
       "4225            1517\n",
       "4770            1516\n",
       "Total Bags      1517\n",
       "Small Bags      1517\n",
       "Large Bags      1377\n",
       "XLarge Bags      711\n",
       "type               1\n",
       "year               2\n",
       "region            51\n",
       "dtype: int64"
      ]
     },
     "execution_count": 132,
     "metadata": {},
     "output_type": "execute_result"
    }
   ],
   "source": [
    "df.nunique()"
   ]
  },
  {
   "cell_type": "code",
   "execution_count": 133,
   "id": "1263cd7b",
   "metadata": {},
   "outputs": [
    {
     "data": {
      "text/plain": [
       "Unnamed: 0      14951\n",
       "Date            14951\n",
       "AveragePrice    14951\n",
       "Total Volume    14951\n",
       "4046            14951\n",
       "4225            14951\n",
       "4770            14951\n",
       "Total Bags      14951\n",
       "Small Bags      14951\n",
       "Large Bags      14951\n",
       "XLarge Bags     14951\n",
       "type            14951\n",
       "year            14951\n",
       "region          14951\n",
       "dtype: int64"
      ]
     },
     "execution_count": 133,
     "metadata": {},
     "output_type": "execute_result"
    }
   ],
   "source": [
    "df.isnull().sum()"
   ]
  },
  {
   "cell_type": "code",
   "execution_count": 134,
   "id": "032c689a",
   "metadata": {},
   "outputs": [],
   "source": [
    "## there are lot of missing values 14951"
   ]
  },
  {
   "cell_type": "code",
   "execution_count": 135,
   "id": "481d2f0b",
   "metadata": {},
   "outputs": [
    {
     "data": {
      "text/plain": [
       "Unnamed: 0      float64\n",
       "Date             object\n",
       "AveragePrice    float64\n",
       "Total Volume    float64\n",
       "4046            float64\n",
       "4225            float64\n",
       "4770            float64\n",
       "Total Bags      float64\n",
       "Small Bags      float64\n",
       "Large Bags      float64\n",
       "XLarge Bags     float64\n",
       "type             object\n",
       "year            float64\n",
       "region           object\n",
       "dtype: object"
      ]
     },
     "execution_count": 135,
     "metadata": {},
     "output_type": "execute_result"
    }
   ],
   "source": [
    "df.dtypes"
   ]
  },
  {
   "cell_type": "code",
   "execution_count": 136,
   "id": "522fe13e",
   "metadata": {},
   "outputs": [],
   "source": [
    "## object datatypes are the ones that we need to encode using encoding techniques"
   ]
  },
  {
   "cell_type": "code",
   "execution_count": 137,
   "id": "f0fdb1c6",
   "metadata": {},
   "outputs": [
    {
     "data": {
      "text/plain": [
       "Unnamed: 0     -0.234824\n",
       "AveragePrice   -0.109444\n",
       "Total Volume    6.200138\n",
       "4046            6.051830\n",
       "4225            6.394926\n",
       "4770            5.405164\n",
       "Total Bags      5.366378\n",
       "Small Bags      5.355185\n",
       "Large Bags      5.144495\n",
       "XLarge Bags     5.775077\n",
       "year            1.828332\n",
       "dtype: float64"
      ]
     },
     "execution_count": 137,
     "metadata": {},
     "output_type": "execute_result"
    }
   ],
   "source": [
    "df.skew()"
   ]
  },
  {
   "cell_type": "code",
   "execution_count": 138,
   "id": "ce98aeaa",
   "metadata": {},
   "outputs": [
    {
     "data": {
      "text/html": [
       "<div>\n",
       "<style scoped>\n",
       "    .dataframe tbody tr th:only-of-type {\n",
       "        vertical-align: middle;\n",
       "    }\n",
       "\n",
       "    .dataframe tbody tr th {\n",
       "        vertical-align: top;\n",
       "    }\n",
       "\n",
       "    .dataframe thead th {\n",
       "        text-align: right;\n",
       "    }\n",
       "</style>\n",
       "<table border=\"1\" class=\"dataframe\">\n",
       "  <thead>\n",
       "    <tr style=\"text-align: right;\">\n",
       "      <th></th>\n",
       "      <th>Date</th>\n",
       "      <th>AveragePrice</th>\n",
       "      <th>Total Volume</th>\n",
       "      <th>4046</th>\n",
       "      <th>4225</th>\n",
       "      <th>4770</th>\n",
       "      <th>Total Bags</th>\n",
       "      <th>Small Bags</th>\n",
       "      <th>Large Bags</th>\n",
       "      <th>XLarge Bags</th>\n",
       "      <th>type</th>\n",
       "      <th>region</th>\n",
       "    </tr>\n",
       "  </thead>\n",
       "  <tbody>\n",
       "    <tr>\n",
       "      <th>0</th>\n",
       "      <td>27-12-2015</td>\n",
       "      <td>1.33</td>\n",
       "      <td>64236.62</td>\n",
       "      <td>1036.74</td>\n",
       "      <td>54454.85</td>\n",
       "      <td>48.16</td>\n",
       "      <td>8696.87</td>\n",
       "      <td>8603.62</td>\n",
       "      <td>93.25</td>\n",
       "      <td>0.0</td>\n",
       "      <td>conventional</td>\n",
       "      <td>Albany</td>\n",
       "    </tr>\n",
       "    <tr>\n",
       "      <th>1</th>\n",
       "      <td>20-12-2015</td>\n",
       "      <td>1.35</td>\n",
       "      <td>54876.98</td>\n",
       "      <td>674.28</td>\n",
       "      <td>44638.81</td>\n",
       "      <td>58.33</td>\n",
       "      <td>9505.56</td>\n",
       "      <td>9408.07</td>\n",
       "      <td>97.49</td>\n",
       "      <td>0.0</td>\n",
       "      <td>conventional</td>\n",
       "      <td>Albany</td>\n",
       "    </tr>\n",
       "    <tr>\n",
       "      <th>2</th>\n",
       "      <td>13-12-2015</td>\n",
       "      <td>0.93</td>\n",
       "      <td>118220.22</td>\n",
       "      <td>794.70</td>\n",
       "      <td>109149.67</td>\n",
       "      <td>130.50</td>\n",
       "      <td>8145.35</td>\n",
       "      <td>8042.21</td>\n",
       "      <td>103.14</td>\n",
       "      <td>0.0</td>\n",
       "      <td>conventional</td>\n",
       "      <td>Albany</td>\n",
       "    </tr>\n",
       "    <tr>\n",
       "      <th>3</th>\n",
       "      <td>06-12-2015</td>\n",
       "      <td>1.08</td>\n",
       "      <td>78992.15</td>\n",
       "      <td>1132.00</td>\n",
       "      <td>71976.41</td>\n",
       "      <td>72.58</td>\n",
       "      <td>5811.16</td>\n",
       "      <td>5677.40</td>\n",
       "      <td>133.76</td>\n",
       "      <td>0.0</td>\n",
       "      <td>conventional</td>\n",
       "      <td>Albany</td>\n",
       "    </tr>\n",
       "    <tr>\n",
       "      <th>4</th>\n",
       "      <td>29-11-2015</td>\n",
       "      <td>1.28</td>\n",
       "      <td>51039.60</td>\n",
       "      <td>941.48</td>\n",
       "      <td>43838.39</td>\n",
       "      <td>75.78</td>\n",
       "      <td>6183.95</td>\n",
       "      <td>5986.26</td>\n",
       "      <td>197.69</td>\n",
       "      <td>0.0</td>\n",
       "      <td>conventional</td>\n",
       "      <td>Albany</td>\n",
       "    </tr>\n",
       "    <tr>\n",
       "      <th>...</th>\n",
       "      <td>...</td>\n",
       "      <td>...</td>\n",
       "      <td>...</td>\n",
       "      <td>...</td>\n",
       "      <td>...</td>\n",
       "      <td>...</td>\n",
       "      <td>...</td>\n",
       "      <td>...</td>\n",
       "      <td>...</td>\n",
       "      <td>...</td>\n",
       "      <td>...</td>\n",
       "      <td>...</td>\n",
       "    </tr>\n",
       "    <tr>\n",
       "      <th>16463</th>\n",
       "      <td>NaN</td>\n",
       "      <td>NaN</td>\n",
       "      <td>NaN</td>\n",
       "      <td>NaN</td>\n",
       "      <td>NaN</td>\n",
       "      <td>NaN</td>\n",
       "      <td>NaN</td>\n",
       "      <td>NaN</td>\n",
       "      <td>NaN</td>\n",
       "      <td>NaN</td>\n",
       "      <td>NaN</td>\n",
       "      <td>NaN</td>\n",
       "    </tr>\n",
       "    <tr>\n",
       "      <th>16464</th>\n",
       "      <td>NaN</td>\n",
       "      <td>NaN</td>\n",
       "      <td>NaN</td>\n",
       "      <td>NaN</td>\n",
       "      <td>NaN</td>\n",
       "      <td>NaN</td>\n",
       "      <td>NaN</td>\n",
       "      <td>NaN</td>\n",
       "      <td>NaN</td>\n",
       "      <td>NaN</td>\n",
       "      <td>NaN</td>\n",
       "      <td>NaN</td>\n",
       "    </tr>\n",
       "    <tr>\n",
       "      <th>16465</th>\n",
       "      <td>NaN</td>\n",
       "      <td>NaN</td>\n",
       "      <td>NaN</td>\n",
       "      <td>NaN</td>\n",
       "      <td>NaN</td>\n",
       "      <td>NaN</td>\n",
       "      <td>NaN</td>\n",
       "      <td>NaN</td>\n",
       "      <td>NaN</td>\n",
       "      <td>NaN</td>\n",
       "      <td>NaN</td>\n",
       "      <td>NaN</td>\n",
       "    </tr>\n",
       "    <tr>\n",
       "      <th>16466</th>\n",
       "      <td>NaN</td>\n",
       "      <td>NaN</td>\n",
       "      <td>NaN</td>\n",
       "      <td>NaN</td>\n",
       "      <td>NaN</td>\n",
       "      <td>NaN</td>\n",
       "      <td>NaN</td>\n",
       "      <td>NaN</td>\n",
       "      <td>NaN</td>\n",
       "      <td>NaN</td>\n",
       "      <td>NaN</td>\n",
       "      <td>NaN</td>\n",
       "    </tr>\n",
       "    <tr>\n",
       "      <th>16467</th>\n",
       "      <td>NaN</td>\n",
       "      <td>NaN</td>\n",
       "      <td>NaN</td>\n",
       "      <td>NaN</td>\n",
       "      <td>NaN</td>\n",
       "      <td>NaN</td>\n",
       "      <td>NaN</td>\n",
       "      <td>NaN</td>\n",
       "      <td>NaN</td>\n",
       "      <td>NaN</td>\n",
       "      <td>NaN</td>\n",
       "      <td>NaN</td>\n",
       "    </tr>\n",
       "  </tbody>\n",
       "</table>\n",
       "<p>16468 rows × 12 columns</p>\n",
       "</div>"
      ],
      "text/plain": [
       "             Date  AveragePrice  Total Volume     4046       4225    4770  \\\n",
       "0      27-12-2015          1.33      64236.62  1036.74   54454.85   48.16   \n",
       "1      20-12-2015          1.35      54876.98   674.28   44638.81   58.33   \n",
       "2      13-12-2015          0.93     118220.22   794.70  109149.67  130.50   \n",
       "3      06-12-2015          1.08      78992.15  1132.00   71976.41   72.58   \n",
       "4      29-11-2015          1.28      51039.60   941.48   43838.39   75.78   \n",
       "...           ...           ...           ...      ...        ...     ...   \n",
       "16463         NaN           NaN           NaN      NaN        NaN     NaN   \n",
       "16464         NaN           NaN           NaN      NaN        NaN     NaN   \n",
       "16465         NaN           NaN           NaN      NaN        NaN     NaN   \n",
       "16466         NaN           NaN           NaN      NaN        NaN     NaN   \n",
       "16467         NaN           NaN           NaN      NaN        NaN     NaN   \n",
       "\n",
       "       Total Bags  Small Bags  Large Bags  XLarge Bags          type  region  \n",
       "0         8696.87     8603.62       93.25          0.0  conventional  Albany  \n",
       "1         9505.56     9408.07       97.49          0.0  conventional  Albany  \n",
       "2         8145.35     8042.21      103.14          0.0  conventional  Albany  \n",
       "3         5811.16     5677.40      133.76          0.0  conventional  Albany  \n",
       "4         6183.95     5986.26      197.69          0.0  conventional  Albany  \n",
       "...           ...         ...         ...          ...           ...     ...  \n",
       "16463         NaN         NaN         NaN          NaN           NaN     NaN  \n",
       "16464         NaN         NaN         NaN          NaN           NaN     NaN  \n",
       "16465         NaN         NaN         NaN          NaN           NaN     NaN  \n",
       "16466         NaN         NaN         NaN          NaN           NaN     NaN  \n",
       "16467         NaN         NaN         NaN          NaN           NaN     NaN  \n",
       "\n",
       "[16468 rows x 12 columns]"
      ]
     },
     "execution_count": 138,
     "metadata": {},
     "output_type": "execute_result"
    }
   ],
   "source": [
    "df_=df.drop(columns=['Unnamed: 0','year'])\n",
    "df_"
   ]
  },
  {
   "cell_type": "code",
   "execution_count": 139,
   "id": "f7c0002e",
   "metadata": {},
   "outputs": [
    {
     "data": {
      "text/html": [
       "<div>\n",
       "<style scoped>\n",
       "    .dataframe tbody tr th:only-of-type {\n",
       "        vertical-align: middle;\n",
       "    }\n",
       "\n",
       "    .dataframe tbody tr th {\n",
       "        vertical-align: top;\n",
       "    }\n",
       "\n",
       "    .dataframe thead th {\n",
       "        text-align: right;\n",
       "    }\n",
       "</style>\n",
       "<table border=\"1\" class=\"dataframe\">\n",
       "  <thead>\n",
       "    <tr style=\"text-align: right;\">\n",
       "      <th></th>\n",
       "      <th>Date</th>\n",
       "      <th>AveragePrice</th>\n",
       "      <th>Total Volume</th>\n",
       "      <th>4046</th>\n",
       "      <th>4225</th>\n",
       "      <th>4770</th>\n",
       "      <th>Total Bags</th>\n",
       "      <th>Small Bags</th>\n",
       "      <th>Large Bags</th>\n",
       "      <th>XLarge Bags</th>\n",
       "      <th>type</th>\n",
       "      <th>region</th>\n",
       "    </tr>\n",
       "  </thead>\n",
       "  <tbody>\n",
       "    <tr>\n",
       "      <th>0</th>\n",
       "      <td>27-12-2015</td>\n",
       "      <td>1.33</td>\n",
       "      <td>64236.62</td>\n",
       "      <td>1036.74</td>\n",
       "      <td>54454.85</td>\n",
       "      <td>48.16</td>\n",
       "      <td>8696.87</td>\n",
       "      <td>8603.62</td>\n",
       "      <td>93.25</td>\n",
       "      <td>0.0</td>\n",
       "      <td>conventional</td>\n",
       "      <td>Albany</td>\n",
       "    </tr>\n",
       "    <tr>\n",
       "      <th>1</th>\n",
       "      <td>20-12-2015</td>\n",
       "      <td>1.35</td>\n",
       "      <td>54876.98</td>\n",
       "      <td>674.28</td>\n",
       "      <td>44638.81</td>\n",
       "      <td>58.33</td>\n",
       "      <td>9505.56</td>\n",
       "      <td>9408.07</td>\n",
       "      <td>97.49</td>\n",
       "      <td>0.0</td>\n",
       "      <td>conventional</td>\n",
       "      <td>Albany</td>\n",
       "    </tr>\n",
       "    <tr>\n",
       "      <th>2</th>\n",
       "      <td>13-12-2015</td>\n",
       "      <td>0.93</td>\n",
       "      <td>118220.22</td>\n",
       "      <td>794.70</td>\n",
       "      <td>109149.67</td>\n",
       "      <td>130.50</td>\n",
       "      <td>8145.35</td>\n",
       "      <td>8042.21</td>\n",
       "      <td>103.14</td>\n",
       "      <td>0.0</td>\n",
       "      <td>conventional</td>\n",
       "      <td>Albany</td>\n",
       "    </tr>\n",
       "    <tr>\n",
       "      <th>3</th>\n",
       "      <td>06-12-2015</td>\n",
       "      <td>1.08</td>\n",
       "      <td>78992.15</td>\n",
       "      <td>1132.00</td>\n",
       "      <td>71976.41</td>\n",
       "      <td>72.58</td>\n",
       "      <td>5811.16</td>\n",
       "      <td>5677.40</td>\n",
       "      <td>133.76</td>\n",
       "      <td>0.0</td>\n",
       "      <td>conventional</td>\n",
       "      <td>Albany</td>\n",
       "    </tr>\n",
       "    <tr>\n",
       "      <th>4</th>\n",
       "      <td>29-11-2015</td>\n",
       "      <td>1.28</td>\n",
       "      <td>51039.60</td>\n",
       "      <td>941.48</td>\n",
       "      <td>43838.39</td>\n",
       "      <td>75.78</td>\n",
       "      <td>6183.95</td>\n",
       "      <td>5986.26</td>\n",
       "      <td>197.69</td>\n",
       "      <td>0.0</td>\n",
       "      <td>conventional</td>\n",
       "      <td>Albany</td>\n",
       "    </tr>\n",
       "  </tbody>\n",
       "</table>\n",
       "</div>"
      ],
      "text/plain": [
       "         Date  AveragePrice  Total Volume     4046       4225    4770  \\\n",
       "0  27-12-2015          1.33      64236.62  1036.74   54454.85   48.16   \n",
       "1  20-12-2015          1.35      54876.98   674.28   44638.81   58.33   \n",
       "2  13-12-2015          0.93     118220.22   794.70  109149.67  130.50   \n",
       "3  06-12-2015          1.08      78992.15  1132.00   71976.41   72.58   \n",
       "4  29-11-2015          1.28      51039.60   941.48   43838.39   75.78   \n",
       "\n",
       "   Total Bags  Small Bags  Large Bags  XLarge Bags          type  region  \n",
       "0     8696.87     8603.62       93.25          0.0  conventional  Albany  \n",
       "1     9505.56     9408.07       97.49          0.0  conventional  Albany  \n",
       "2     8145.35     8042.21      103.14          0.0  conventional  Albany  \n",
       "3     5811.16     5677.40      133.76          0.0  conventional  Albany  \n",
       "4     6183.95     5986.26      197.69          0.0  conventional  Albany  "
      ]
     },
     "execution_count": 139,
     "metadata": {},
     "output_type": "execute_result"
    }
   ],
   "source": [
    "df_.head()"
   ]
  },
  {
   "cell_type": "code",
   "execution_count": 140,
   "id": "98c7dc5e",
   "metadata": {},
   "outputs": [
    {
     "data": {
      "text/plain": [
       "(16468, 12)"
      ]
     },
     "execution_count": 140,
     "metadata": {},
     "output_type": "execute_result"
    }
   ],
   "source": [
    "df_.shape"
   ]
  },
  {
   "cell_type": "code",
   "execution_count": 141,
   "id": "487c18ad",
   "metadata": {},
   "outputs": [],
   "source": [
    "## replacing the null values with mean of float data type"
   ]
  },
  {
   "cell_type": "code",
   "execution_count": 142,
   "id": "3828fe65",
   "metadata": {},
   "outputs": [
    {
     "data": {
      "text/plain": [
       "0        1.33000\n",
       "1        1.35000\n",
       "2        0.93000\n",
       "3        1.08000\n",
       "4        1.28000\n",
       "          ...   \n",
       "16463    1.07499\n",
       "16464    1.07499\n",
       "16465    1.07499\n",
       "16466    1.07499\n",
       "16467    1.07499\n",
       "Name: AveragePrice, Length: 16468, dtype: float64"
      ]
     },
     "execution_count": 142,
     "metadata": {},
     "output_type": "execute_result"
    }
   ],
   "source": [
    "df_['AveragePrice']=df_['AveragePrice'].fillna(np.mean(df_['AveragePrice']))\n",
    "df_['AveragePrice']"
   ]
  },
  {
   "cell_type": "code",
   "execution_count": 143,
   "id": "344d83f9",
   "metadata": {},
   "outputs": [
    {
     "data": {
      "text/plain": [
       "0        6.423662e+04\n",
       "1        5.487698e+04\n",
       "2        1.182202e+05\n",
       "3        7.899215e+04\n",
       "4        5.103960e+04\n",
       "             ...     \n",
       "16463    1.601879e+06\n",
       "16464    1.601879e+06\n",
       "16465    1.601879e+06\n",
       "16466    1.601879e+06\n",
       "16467    1.601879e+06\n",
       "Name: Total Volume, Length: 16468, dtype: float64"
      ]
     },
     "execution_count": 143,
     "metadata": {},
     "output_type": "execute_result"
    }
   ],
   "source": [
    "df_['Total Volume']=df_['Total Volume'].fillna(np.mean(df_['Total Volume']))\n",
    "df_['Total Volume']"
   ]
  },
  {
   "cell_type": "code",
   "execution_count": 144,
   "id": "bc49af13",
   "metadata": {},
   "outputs": [
    {
     "data": {
      "text/plain": [
       "0          1036.740000\n",
       "1           674.280000\n",
       "2           794.700000\n",
       "3          1132.000000\n",
       "4           941.480000\n",
       "             ...      \n",
       "16463    646438.654113\n",
       "16464    646438.654113\n",
       "16465    646438.654113\n",
       "16466    646438.654113\n",
       "16467    646438.654113\n",
       "Name: 4046, Length: 16468, dtype: float64"
      ]
     },
     "execution_count": 144,
     "metadata": {},
     "output_type": "execute_result"
    }
   ],
   "source": [
    "df_['4046']=df_['4046'].fillna(np.mean(df_['4046']))\n",
    "df_['4046']"
   ]
  },
  {
   "cell_type": "code",
   "execution_count": 145,
   "id": "556eb428",
   "metadata": {},
   "outputs": [
    {
     "data": {
      "text/plain": [
       "0         54454.850000\n",
       "1         44638.810000\n",
       "2        109149.670000\n",
       "3         71976.410000\n",
       "4         43838.390000\n",
       "             ...      \n",
       "16463    611437.502591\n",
       "16464    611437.502591\n",
       "16465    611437.502591\n",
       "16466    611437.502591\n",
       "16467    611437.502591\n",
       "Name: 4225, Length: 16468, dtype: float64"
      ]
     },
     "execution_count": 145,
     "metadata": {},
     "output_type": "execute_result"
    }
   ],
   "source": [
    "df_['4225']=df_['4225'].fillna(np.mean(df_['4225']))\n",
    "df_['4225']"
   ]
  },
  {
   "cell_type": "code",
   "execution_count": 146,
   "id": "ec046025",
   "metadata": {},
   "outputs": [
    {
     "data": {
      "text/plain": [
       "0           48.160000\n",
       "1           58.330000\n",
       "2          130.500000\n",
       "3           72.580000\n",
       "4           75.780000\n",
       "             ...     \n",
       "16463    50405.495399\n",
       "16464    50405.495399\n",
       "16465    50405.495399\n",
       "16466    50405.495399\n",
       "16467    50405.495399\n",
       "Name: 4770, Length: 16468, dtype: float64"
      ]
     },
     "execution_count": 146,
     "metadata": {},
     "output_type": "execute_result"
    }
   ],
   "source": [
    "df_['4770']=df_['4770'].fillna(np.mean(df_['4770']))\n",
    "df_['4770']"
   ]
  },
  {
   "cell_type": "code",
   "execution_count": 147,
   "id": "bcc7f042",
   "metadata": {},
   "outputs": [
    {
     "data": {
      "text/plain": [
       "0          8696.870000\n",
       "1          9505.560000\n",
       "2          8145.350000\n",
       "3          5811.160000\n",
       "4          6183.950000\n",
       "             ...      \n",
       "16463    293597.415735\n",
       "16464    293597.415735\n",
       "16465    293597.415735\n",
       "16466    293597.415735\n",
       "16467    293597.415735\n",
       "Name: Total Bags, Length: 16468, dtype: float64"
      ]
     },
     "execution_count": 147,
     "metadata": {},
     "output_type": "execute_result"
    }
   ],
   "source": [
    "df_['Total Bags']=df_['Total Bags'].fillna(np.mean(df_['Total Bags']))\n",
    "df_['Total Bags']"
   ]
  },
  {
   "cell_type": "code",
   "execution_count": 148,
   "id": "8cc582ab",
   "metadata": {},
   "outputs": [
    {
     "data": {
      "text/plain": [
       "0          8603.620000\n",
       "1          9408.070000\n",
       "2          8042.210000\n",
       "3          5677.400000\n",
       "4          5986.260000\n",
       "             ...      \n",
       "16463    248773.595287\n",
       "16464    248773.595287\n",
       "16465    248773.595287\n",
       "16466    248773.595287\n",
       "16467    248773.595287\n",
       "Name: Small Bags, Length: 16468, dtype: float64"
      ]
     },
     "execution_count": 148,
     "metadata": {},
     "output_type": "execute_result"
    }
   ],
   "source": [
    "df_['Small Bags']=df_['Small Bags'].fillna(np.mean(df_['Small Bags']))\n",
    "df_['Small Bags']"
   ]
  },
  {
   "cell_type": "code",
   "execution_count": 149,
   "id": "bf4b8c26",
   "metadata": {},
   "outputs": [
    {
     "data": {
      "text/plain": [
       "0           93.250000\n",
       "1           97.490000\n",
       "2          103.140000\n",
       "3          133.760000\n",
       "4          197.690000\n",
       "             ...     \n",
       "16463    42642.049374\n",
       "16464    42642.049374\n",
       "16465    42642.049374\n",
       "16466    42642.049374\n",
       "16467    42642.049374\n",
       "Name: Large Bags, Length: 16468, dtype: float64"
      ]
     },
     "execution_count": 149,
     "metadata": {},
     "output_type": "execute_result"
    }
   ],
   "source": [
    "df_['Large Bags']=df_['Large Bags'].fillna(np.mean(df_['Large Bags']))\n",
    "df_['Large Bags']"
   ]
  },
  {
   "cell_type": "code",
   "execution_count": 150,
   "id": "8af83e5d",
   "metadata": {},
   "outputs": [
    {
     "data": {
      "text/plain": [
       "0           0.000000\n",
       "1           0.000000\n",
       "2           0.000000\n",
       "3           0.000000\n",
       "4           0.000000\n",
       "            ...     \n",
       "16463    2181.771074\n",
       "16464    2181.771074\n",
       "16465    2181.771074\n",
       "16466    2181.771074\n",
       "16467    2181.771074\n",
       "Name: XLarge Bags, Length: 16468, dtype: float64"
      ]
     },
     "execution_count": 150,
     "metadata": {},
     "output_type": "execute_result"
    }
   ],
   "source": [
    "df_['XLarge Bags']=df_['XLarge Bags'].fillna(np.mean(df_['XLarge Bags']))\n",
    "df_['XLarge Bags']"
   ]
  },
  {
   "cell_type": "code",
   "execution_count": 151,
   "id": "dff4740f",
   "metadata": {},
   "outputs": [
    {
     "data": {
      "text/plain": [
       "Date             object\n",
       "AveragePrice    float64\n",
       "Total Volume    float64\n",
       "4046            float64\n",
       "4225            float64\n",
       "4770            float64\n",
       "Total Bags      float64\n",
       "Small Bags      float64\n",
       "Large Bags      float64\n",
       "XLarge Bags     float64\n",
       "type             object\n",
       "region           object\n",
       "dtype: object"
      ]
     },
     "execution_count": 151,
     "metadata": {},
     "output_type": "execute_result"
    }
   ],
   "source": [
    "df_.dtypes"
   ]
  },
  {
   "cell_type": "code",
   "execution_count": 152,
   "id": "f87cde0a",
   "metadata": {},
   "outputs": [
    {
     "data": {
      "text/plain": [
       "0        conventional\n",
       "1        conventional\n",
       "2        conventional\n",
       "3        conventional\n",
       "4        conventional\n",
       "             ...     \n",
       "16463             NaN\n",
       "16464             NaN\n",
       "16465             NaN\n",
       "16466             NaN\n",
       "16467             NaN\n",
       "Name: type, Length: 16468, dtype: object"
      ]
     },
     "execution_count": 152,
     "metadata": {},
     "output_type": "execute_result"
    }
   ],
   "source": [
    "df_['type']=df_['type'].replace('conventional,1')\n",
    "df_['type']"
   ]
  },
  {
   "cell_type": "code",
   "execution_count": 153,
   "id": "3ddb5371",
   "metadata": {},
   "outputs": [],
   "source": [
    "for column in df_[['type','region']]:\n",
    "    mode=df_[column].mode()\n",
    "    df_[column]=df_[column].fillna(mode)\n",
    "    df_[column]"
   ]
  },
  {
   "cell_type": "code",
   "execution_count": 154,
   "id": "f80bc122",
   "metadata": {},
   "outputs": [
    {
     "data": {
      "text/plain": [
       "0        Albany\n",
       "1        Albany\n",
       "2        Albany\n",
       "3        Albany\n",
       "4        Albany\n",
       "          ...  \n",
       "16463       NaN\n",
       "16464       NaN\n",
       "16465       NaN\n",
       "16466       NaN\n",
       "16467       NaN\n",
       "Name: region, Length: 16468, dtype: object"
      ]
     },
     "execution_count": 154,
     "metadata": {},
     "output_type": "execute_result"
    }
   ],
   "source": [
    " df_[column]"
   ]
  },
  {
   "cell_type": "code",
   "execution_count": 155,
   "id": "61d9a834",
   "metadata": {},
   "outputs": [
    {
     "data": {
      "text/plain": [
       "Date            14951\n",
       "AveragePrice        0\n",
       "Total Volume        0\n",
       "4046                0\n",
       "4225                0\n",
       "4770                0\n",
       "Total Bags          0\n",
       "Small Bags          0\n",
       "Large Bags          0\n",
       "XLarge Bags         0\n",
       "type            14951\n",
       "region          14951\n",
       "dtype: int64"
      ]
     },
     "execution_count": 155,
     "metadata": {},
     "output_type": "execute_result"
    }
   ],
   "source": [
    "df_.isnull().sum()"
   ]
  },
  {
   "cell_type": "code",
   "execution_count": 156,
   "id": "e33a633d",
   "metadata": {},
   "outputs": [
    {
     "data": {
      "text/plain": [
       "0    conventional\n",
       "1    conventional\n",
       "2    conventional\n",
       "3    conventional\n",
       "4    conventional\n",
       "Name: type, dtype: object"
      ]
     },
     "execution_count": 156,
     "metadata": {},
     "output_type": "execute_result"
    }
   ],
   "source": [
    "df_['type']=df_['type'].replace(np.NaN,'conventional')\n",
    "df_['type'].head(5)"
   ]
  },
  {
   "cell_type": "code",
   "execution_count": 157,
   "id": "d4fac40e",
   "metadata": {},
   "outputs": [],
   "source": [
    "##"
   ]
  },
  {
   "cell_type": "code",
   "execution_count": 158,
   "id": "5ab2f921",
   "metadata": {},
   "outputs": [
    {
     "data": {
      "text/plain": [
       "Date            14951\n",
       "AveragePrice        0\n",
       "Total Volume        0\n",
       "4046                0\n",
       "4225                0\n",
       "4770                0\n",
       "Total Bags          0\n",
       "Small Bags          0\n",
       "Large Bags          0\n",
       "XLarge Bags         0\n",
       "type                0\n",
       "region          14951\n",
       "dtype: int64"
      ]
     },
     "execution_count": 158,
     "metadata": {},
     "output_type": "execute_result"
    }
   ],
   "source": [
    "df_.isnull().sum()"
   ]
  },
  {
   "cell_type": "code",
   "execution_count": 159,
   "id": "678979d5",
   "metadata": {},
   "outputs": [
    {
     "data": {
      "text/html": [
       "<div>\n",
       "<style scoped>\n",
       "    .dataframe tbody tr th:only-of-type {\n",
       "        vertical-align: middle;\n",
       "    }\n",
       "\n",
       "    .dataframe tbody tr th {\n",
       "        vertical-align: top;\n",
       "    }\n",
       "\n",
       "    .dataframe thead th {\n",
       "        text-align: right;\n",
       "    }\n",
       "</style>\n",
       "<table border=\"1\" class=\"dataframe\">\n",
       "  <thead>\n",
       "    <tr style=\"text-align: right;\">\n",
       "      <th></th>\n",
       "      <th>AveragePrice</th>\n",
       "      <th>Total Volume</th>\n",
       "      <th>4046</th>\n",
       "      <th>4225</th>\n",
       "      <th>4770</th>\n",
       "      <th>Total Bags</th>\n",
       "      <th>Small Bags</th>\n",
       "      <th>Large Bags</th>\n",
       "      <th>XLarge Bags</th>\n",
       "      <th>type</th>\n",
       "      <th>region</th>\n",
       "    </tr>\n",
       "  </thead>\n",
       "  <tbody>\n",
       "    <tr>\n",
       "      <th>0</th>\n",
       "      <td>1.33000</td>\n",
       "      <td>6.423662e+04</td>\n",
       "      <td>1036.740000</td>\n",
       "      <td>54454.850000</td>\n",
       "      <td>48.160000</td>\n",
       "      <td>8696.870000</td>\n",
       "      <td>8603.620000</td>\n",
       "      <td>93.250000</td>\n",
       "      <td>0.000000</td>\n",
       "      <td>conventional</td>\n",
       "      <td>Albany</td>\n",
       "    </tr>\n",
       "    <tr>\n",
       "      <th>1</th>\n",
       "      <td>1.35000</td>\n",
       "      <td>5.487698e+04</td>\n",
       "      <td>674.280000</td>\n",
       "      <td>44638.810000</td>\n",
       "      <td>58.330000</td>\n",
       "      <td>9505.560000</td>\n",
       "      <td>9408.070000</td>\n",
       "      <td>97.490000</td>\n",
       "      <td>0.000000</td>\n",
       "      <td>conventional</td>\n",
       "      <td>Albany</td>\n",
       "    </tr>\n",
       "    <tr>\n",
       "      <th>2</th>\n",
       "      <td>0.93000</td>\n",
       "      <td>1.182202e+05</td>\n",
       "      <td>794.700000</td>\n",
       "      <td>109149.670000</td>\n",
       "      <td>130.500000</td>\n",
       "      <td>8145.350000</td>\n",
       "      <td>8042.210000</td>\n",
       "      <td>103.140000</td>\n",
       "      <td>0.000000</td>\n",
       "      <td>conventional</td>\n",
       "      <td>Albany</td>\n",
       "    </tr>\n",
       "    <tr>\n",
       "      <th>3</th>\n",
       "      <td>1.08000</td>\n",
       "      <td>7.899215e+04</td>\n",
       "      <td>1132.000000</td>\n",
       "      <td>71976.410000</td>\n",
       "      <td>72.580000</td>\n",
       "      <td>5811.160000</td>\n",
       "      <td>5677.400000</td>\n",
       "      <td>133.760000</td>\n",
       "      <td>0.000000</td>\n",
       "      <td>conventional</td>\n",
       "      <td>Albany</td>\n",
       "    </tr>\n",
       "    <tr>\n",
       "      <th>4</th>\n",
       "      <td>1.28000</td>\n",
       "      <td>5.103960e+04</td>\n",
       "      <td>941.480000</td>\n",
       "      <td>43838.390000</td>\n",
       "      <td>75.780000</td>\n",
       "      <td>6183.950000</td>\n",
       "      <td>5986.260000</td>\n",
       "      <td>197.690000</td>\n",
       "      <td>0.000000</td>\n",
       "      <td>conventional</td>\n",
       "      <td>Albany</td>\n",
       "    </tr>\n",
       "    <tr>\n",
       "      <th>...</th>\n",
       "      <td>...</td>\n",
       "      <td>...</td>\n",
       "      <td>...</td>\n",
       "      <td>...</td>\n",
       "      <td>...</td>\n",
       "      <td>...</td>\n",
       "      <td>...</td>\n",
       "      <td>...</td>\n",
       "      <td>...</td>\n",
       "      <td>...</td>\n",
       "      <td>...</td>\n",
       "    </tr>\n",
       "    <tr>\n",
       "      <th>16463</th>\n",
       "      <td>1.07499</td>\n",
       "      <td>1.601879e+06</td>\n",
       "      <td>646438.654113</td>\n",
       "      <td>611437.502591</td>\n",
       "      <td>50405.495399</td>\n",
       "      <td>293597.415735</td>\n",
       "      <td>248773.595287</td>\n",
       "      <td>42642.049374</td>\n",
       "      <td>2181.771074</td>\n",
       "      <td>conventional</td>\n",
       "      <td>NaN</td>\n",
       "    </tr>\n",
       "    <tr>\n",
       "      <th>16464</th>\n",
       "      <td>1.07499</td>\n",
       "      <td>1.601879e+06</td>\n",
       "      <td>646438.654113</td>\n",
       "      <td>611437.502591</td>\n",
       "      <td>50405.495399</td>\n",
       "      <td>293597.415735</td>\n",
       "      <td>248773.595287</td>\n",
       "      <td>42642.049374</td>\n",
       "      <td>2181.771074</td>\n",
       "      <td>conventional</td>\n",
       "      <td>NaN</td>\n",
       "    </tr>\n",
       "    <tr>\n",
       "      <th>16465</th>\n",
       "      <td>1.07499</td>\n",
       "      <td>1.601879e+06</td>\n",
       "      <td>646438.654113</td>\n",
       "      <td>611437.502591</td>\n",
       "      <td>50405.495399</td>\n",
       "      <td>293597.415735</td>\n",
       "      <td>248773.595287</td>\n",
       "      <td>42642.049374</td>\n",
       "      <td>2181.771074</td>\n",
       "      <td>conventional</td>\n",
       "      <td>NaN</td>\n",
       "    </tr>\n",
       "    <tr>\n",
       "      <th>16466</th>\n",
       "      <td>1.07499</td>\n",
       "      <td>1.601879e+06</td>\n",
       "      <td>646438.654113</td>\n",
       "      <td>611437.502591</td>\n",
       "      <td>50405.495399</td>\n",
       "      <td>293597.415735</td>\n",
       "      <td>248773.595287</td>\n",
       "      <td>42642.049374</td>\n",
       "      <td>2181.771074</td>\n",
       "      <td>conventional</td>\n",
       "      <td>NaN</td>\n",
       "    </tr>\n",
       "    <tr>\n",
       "      <th>16467</th>\n",
       "      <td>1.07499</td>\n",
       "      <td>1.601879e+06</td>\n",
       "      <td>646438.654113</td>\n",
       "      <td>611437.502591</td>\n",
       "      <td>50405.495399</td>\n",
       "      <td>293597.415735</td>\n",
       "      <td>248773.595287</td>\n",
       "      <td>42642.049374</td>\n",
       "      <td>2181.771074</td>\n",
       "      <td>conventional</td>\n",
       "      <td>NaN</td>\n",
       "    </tr>\n",
       "  </tbody>\n",
       "</table>\n",
       "<p>16468 rows × 11 columns</p>\n",
       "</div>"
      ],
      "text/plain": [
       "       AveragePrice  Total Volume           4046           4225          4770  \\\n",
       "0           1.33000  6.423662e+04    1036.740000   54454.850000     48.160000   \n",
       "1           1.35000  5.487698e+04     674.280000   44638.810000     58.330000   \n",
       "2           0.93000  1.182202e+05     794.700000  109149.670000    130.500000   \n",
       "3           1.08000  7.899215e+04    1132.000000   71976.410000     72.580000   \n",
       "4           1.28000  5.103960e+04     941.480000   43838.390000     75.780000   \n",
       "...             ...           ...            ...            ...           ...   \n",
       "16463       1.07499  1.601879e+06  646438.654113  611437.502591  50405.495399   \n",
       "16464       1.07499  1.601879e+06  646438.654113  611437.502591  50405.495399   \n",
       "16465       1.07499  1.601879e+06  646438.654113  611437.502591  50405.495399   \n",
       "16466       1.07499  1.601879e+06  646438.654113  611437.502591  50405.495399   \n",
       "16467       1.07499  1.601879e+06  646438.654113  611437.502591  50405.495399   \n",
       "\n",
       "          Total Bags     Small Bags    Large Bags  XLarge Bags          type  \\\n",
       "0        8696.870000    8603.620000     93.250000     0.000000  conventional   \n",
       "1        9505.560000    9408.070000     97.490000     0.000000  conventional   \n",
       "2        8145.350000    8042.210000    103.140000     0.000000  conventional   \n",
       "3        5811.160000    5677.400000    133.760000     0.000000  conventional   \n",
       "4        6183.950000    5986.260000    197.690000     0.000000  conventional   \n",
       "...              ...            ...           ...          ...           ...   \n",
       "16463  293597.415735  248773.595287  42642.049374  2181.771074  conventional   \n",
       "16464  293597.415735  248773.595287  42642.049374  2181.771074  conventional   \n",
       "16465  293597.415735  248773.595287  42642.049374  2181.771074  conventional   \n",
       "16466  293597.415735  248773.595287  42642.049374  2181.771074  conventional   \n",
       "16467  293597.415735  248773.595287  42642.049374  2181.771074  conventional   \n",
       "\n",
       "       region  \n",
       "0      Albany  \n",
       "1      Albany  \n",
       "2      Albany  \n",
       "3      Albany  \n",
       "4      Albany  \n",
       "...       ...  \n",
       "16463     NaN  \n",
       "16464     NaN  \n",
       "16465     NaN  \n",
       "16466     NaN  \n",
       "16467     NaN  \n",
       "\n",
       "[16468 rows x 11 columns]"
      ]
     },
     "execution_count": 159,
     "metadata": {},
     "output_type": "execute_result"
    }
   ],
   "source": [
    "df_.drop(columns=['Date'],axis=1)"
   ]
  },
  {
   "cell_type": "code",
   "execution_count": 160,
   "id": "15880051",
   "metadata": {},
   "outputs": [
    {
     "name": "stdout",
     "output_type": "stream",
     "text": [
      "Minimum 0.49\n",
      "Maximum 1.68\n"
     ]
    },
    {
     "data": {
      "image/png": "[encoded data removed]",
      "text/plain": [
       "<Figure size 576x432 with 1 Axes>"
      ]
     },
     "metadata": {
      "needs_background": "light"
     },
     "output_type": "display_data"
    }
   ],
   "source": [
    "plt.figure(figsize=(8,6))\n",
    "sns.distplot(df_['AveragePrice'],color='m', kde_kws={\"color\": \"k\"})\n",
    "print('Minimum',df_['AveragePrice'].min())\n",
    "print('Maximum',df_['AveragePrice'].max())"
   ]
  },
  {
   "cell_type": "code",
   "execution_count": 161,
   "id": "a6760f61",
   "metadata": {},
   "outputs": [
    {
     "name": "stdout",
     "output_type": "stream",
     "text": [
      "Minimum 38750.74\n",
      "Maximum 44655461.51\n"
     ]
    },
    {
     "data": {
      "image/png": "[encoded data removed]",
      "text/plain": [
       "<Figure size 576x432 with 1 Axes>"
      ]
     },
     "metadata": {
      "needs_background": "light"
     },
     "output_type": "display_data"
    }
   ],
   "source": [
    "plt.figure(figsize=(8,6))\n",
    "sns.distplot(df_['Total Volume'],color='r', kde_kws={\"color\": \"k\"})\n",
    "print('Minimum',df_['Total Volume'].min())\n",
    "print('Maximum',df_['Total Volume'].max())"
   ]
  },
  {
   "cell_type": "code",
   "execution_count": 162,
   "id": "4783658d",
   "metadata": {},
   "outputs": [
    {
     "name": "stdout",
     "output_type": "stream",
     "text": [
      "Minimum 467.72\n",
      "Maximum 18933038.04\n"
     ]
    },
    {
     "data": {
      "image/png": "[encoded data removed]",
      "text/plain": [
       "<Figure size 576x432 with 1 Axes>"
      ]
     },
     "metadata": {
      "needs_background": "light"
     },
     "output_type": "display_data"
    }
   ],
   "source": [
    "plt.figure(figsize=(8,6))\n",
    "sns.distplot(df_['4046'],color='g', kde_kws={\"color\": \"k\"})\n",
    "print('Minimum',df_['4046'].min())\n",
    "print('Maximum',df_['4046'].max())"
   ]
  },
  {
   "cell_type": "code",
   "execution_count": 163,
   "id": "6a97c828",
   "metadata": {},
   "outputs": [
    {
     "name": "stdout",
     "output_type": "stream",
     "text": [
      "Minimum 0.0\n",
      "Maximum 1381516.11\n"
     ]
    },
    {
     "data": {
      "image/png": "[encoded data removed]",
      "text/plain": [
       "<Figure size 576x432 with 1 Axes>"
      ]
     },
     "metadata": {
      "needs_background": "light"
     },
     "output_type": "display_data"
    }
   ],
   "source": [
    "plt.figure(figsize=(8,6))\n",
    "sns.distplot(df_['4770'],color='y', kde_kws={\"color\": \"k\"})\n",
    "print('Minimum',df_['4770'].min())\n",
    "print('Maximum',df_['4770'].max())"
   ]
  },
  {
   "cell_type": "code",
   "execution_count": 164,
   "id": "dfb7c4f1",
   "metadata": {},
   "outputs": [
    {
     "name": "stdout",
     "output_type": "stream",
     "text": [
      "Minimum 1783.77\n",
      "Maximum 18956479.74\n"
     ]
    },
    {
     "data": {
      "image/png": "[encoded data removed]",
      "text/plain": [
       "<Figure size 576x432 with 1 Axes>"
      ]
     },
     "metadata": {
      "needs_background": "light"
     },
     "output_type": "display_data"
    }
   ],
   "source": [
    "plt.figure(figsize=(8,6))\n",
    "sns.distplot(df_['4225'],color='b', kde_kws={\"color\": \"k\"})\n",
    "print('Minimum',df_['4225'].min())\n",
    "print('Maximum',df_['4225'].max())"
   ]
  },
  {
   "cell_type": "code",
   "execution_count": 165,
   "id": "28e556db",
   "metadata": {},
   "outputs": [
    {
     "name": "stdout",
     "output_type": "stream",
     "text": [
      "Minimum 3311.77\n",
      "Maximum 6736304.04\n"
     ]
    },
    {
     "data": {
      "image/png": "[encoded data removed]",
      "text/plain": [
       "<Figure size 576x432 with 1 Axes>"
      ]
     },
     "metadata": {
      "needs_background": "light"
     },
     "output_type": "display_data"
    }
   ],
   "source": [
    "plt.figure(figsize=(8,6))\n",
    "sns.distplot(df_['Total Bags'],color='y', kde_kws={\"color\": \"k\"})\n",
    "print('Minimum',df_['Total Bags'].min())\n",
    "print('Maximum',df_['Total Bags'].max())"
   ]
  },
  {
   "cell_type": "code",
   "execution_count": 166,
   "id": "c61ef7e5",
   "metadata": {},
   "outputs": [
    {
     "name": "stdout",
     "output_type": "stream",
     "text": [
      "Minimum 3311.77\n",
      "Maximum 5893641.72\n"
     ]
    },
    {
     "data": {
      "image/png": "[encoded data removed]",
      "text/plain": [
       "<Figure size 576x432 with 1 Axes>"
      ]
     },
     "metadata": {
      "needs_background": "light"
     },
     "output_type": "display_data"
    }
   ],
   "source": [
    "plt.figure(figsize=(8,6))\n",
    "sns.distplot(df_['Small Bags'],color='b', kde_kws={\"color\": \"k\"})\n",
    "print('Minimum',df_['Small Bags'].min())\n",
    "print('Maximum',df_['Small Bags'].max())"
   ]
  },
  {
   "cell_type": "code",
   "execution_count": 167,
   "id": "8d548b4a",
   "metadata": {},
   "outputs": [
    {
     "name": "stdout",
     "output_type": "stream",
     "text": [
      "Minimum 0.0\n",
      "Maximum 1121076.47\n"
     ]
    },
    {
     "data": {
      "image/png": "[encoded data removed]",
      "text/plain": [
       "<Figure size 576x432 with 1 Axes>"
      ]
     },
     "metadata": {
      "needs_background": "light"
     },
     "output_type": "display_data"
    }
   ],
   "source": [
    "plt.figure(figsize=(8,6))\n",
    "sns.distplot(df_['Large Bags'],color='g', kde_kws={\"color\": \"k\"})\n",
    "print('Minimum',df_['Large Bags'].min())\n",
    "print('Maximum',df_['Large Bags'].max())"
   ]
  },
  {
   "cell_type": "code",
   "execution_count": 168,
   "id": "bd48ffd7",
   "metadata": {},
   "outputs": [
    {
     "name": "stdout",
     "output_type": "stream",
     "text": [
      "Minimum 0.0\n",
      "Maximum 108072.79\n"
     ]
    },
    {
     "data": {
      "image/png": "[encoded data removed]",
      "text/plain": [
       "<Figure size 576x432 with 1 Axes>"
      ]
     },
     "metadata": {
      "needs_background": "light"
     },
     "output_type": "display_data"
    }
   ],
   "source": [
    "plt.figure(figsize=(8,6))\n",
    "sns.distplot(df_['XLarge Bags'],color='r', kde_kws={\"color\": \"k\"})\n",
    "print('Minimum',df_['XLarge Bags'].min())\n",
    "print('Maximum',df_['XLarge Bags'].max())"
   ]
  },
  {
   "cell_type": "code",
   "execution_count": 169,
   "id": "da81b57d",
   "metadata": {},
   "outputs": [],
   "source": [
    "## almost every column contains some skewness and outliers"
   ]
  },
  {
   "cell_type": "code",
   "execution_count": 170,
   "id": "ccdfef65",
   "metadata": {},
   "outputs": [],
   "source": [
    "cat=['year','region','type']\n",
    "cont=[ 'Total Volume', '4046', '4225','4770', 'Total Bags', 'Small Bags', 'Large Bags', 'XLarge Bags']"
   ]
  },
  {
   "cell_type": "code",
   "execution_count": 171,
   "id": "18c5e8e2",
   "metadata": {},
   "outputs": [
    {
     "data": {
      "text/plain": [
       "conventional    16468\n",
       "Name: type, dtype: int64"
      ]
     },
     "execution_count": 171,
     "metadata": {},
     "output_type": "execute_result"
    },
    {
     "data": {
      "image/png": "[encoded data removed]",
      "text/plain": [
       "<Figure size 1080x360 with 2 Axes>"
      ]
     },
     "metadata": {
      "needs_background": "light"
     },
     "output_type": "display_data"
    }
   ],
   "source": [
    "plt.figure(figsize=(15,5))\n",
    "plt.subplot(1,2,1)\n",
    "df_['type'].value_counts().plot.pie(autopct='%1.1f%%')\n",
    "plt.subplot(1,2,2)\n",
    "sns.countplot(df_['type'])\n",
    "df_['type'].value_counts()"
   ]
  },
  {
   "cell_type": "code",
   "execution_count": 172,
   "id": "2e390a88",
   "metadata": {},
   "outputs": [],
   "source": [
    "##checking for outliers"
   ]
  },
  {
   "cell_type": "code",
   "execution_count": 173,
   "id": "1a8767a1",
   "metadata": {},
   "outputs": [
    {
     "data": {
      "image/png": "[encoded data removed]",
      "text/plain": [
       "<Figure size 1080x1800 with 8 Axes>"
      ]
     },
     "metadata": {
      "needs_background": "light"
     },
     "output_type": "display_data"
    }
   ],
   "source": [
    "fig,ax=plt.subplots(4,2,figsize=(15,25))\n",
    "r=0\n",
    "c=0\n",
    "for i,n in enumerate(cont):\n",
    "    if i%2==0 and i>0:\n",
    "        r+=1\n",
    "        c=0\n",
    "    sns.boxplot(df_[n],ax=ax[r,c])\n",
    "    c+=1"
   ]
  },
  {
   "cell_type": "code",
   "execution_count": 174,
   "id": "2ce5726c",
   "metadata": {},
   "outputs": [],
   "source": [
    "## from the above figure it is confirmed that outliers are present in every column"
   ]
  },
  {
   "cell_type": "code",
   "execution_count": 175,
   "id": "28c2a155",
   "metadata": {},
   "outputs": [],
   "source": [
    "## correlation plotting"
   ]
  },
  {
   "cell_type": "code",
   "execution_count": 176,
   "id": "c2a83e93",
   "metadata": {},
   "outputs": [
    {
     "data": {
      "text/plain": [
       "<AxesSubplot:>"
      ]
     },
     "execution_count": 176,
     "metadata": {},
     "output_type": "execute_result"
    },
    {
     "data": {
      "image/png": "[encoded data removed]",
      "text/plain": [
       "<Figure size 936x720 with 2 Axes>"
      ]
     },
     "metadata": {
      "needs_background": "light"
     },
     "output_type": "display_data"
    }
   ],
   "source": [
    "plt.figure(figsize=(13,10))\n",
    "sns.heatmap(df_.corr(),annot=True,cmap='Greys')"
   ]
  },
  {
   "cell_type": "code",
   "execution_count": 177,
   "id": "04a107d0",
   "metadata": {},
   "outputs": [],
   "source": [
    "##Average price shows positive relationship with the year column while negative correlation with all the other column. Intresting thing to notice here is that independent features show more than 90% correlation with each other. This is a case of multicollinearity. We need to remove some features to resolve this problem."
   ]
  },
  {
   "cell_type": "code",
   "execution_count": 178,
   "id": "5f50dd5f",
   "metadata": {},
   "outputs": [],
   "source": [
    "from sklearn.preprocessing import OrdinalEncoder\n",
    "o=OrdinalEncoder()\n",
    "df_['type']=o.fit_transform(df_['type'].values.reshape(-1,1))"
   ]
  },
  {
   "cell_type": "code",
   "execution_count": 179,
   "id": "ba343309",
   "metadata": {},
   "outputs": [
    {
     "data": {
      "text/html": [
       "<div>\n",
       "<style scoped>\n",
       "    .dataframe tbody tr th:only-of-type {\n",
       "        vertical-align: middle;\n",
       "    }\n",
       "\n",
       "    .dataframe tbody tr th {\n",
       "        vertical-align: top;\n",
       "    }\n",
       "\n",
       "    .dataframe thead th {\n",
       "        text-align: right;\n",
       "    }\n",
       "</style>\n",
       "<table border=\"1\" class=\"dataframe\">\n",
       "  <thead>\n",
       "    <tr style=\"text-align: right;\">\n",
       "      <th></th>\n",
       "      <th>AveragePrice</th>\n",
       "      <th>Total Volume</th>\n",
       "      <th>4046</th>\n",
       "      <th>4225</th>\n",
       "      <th>4770</th>\n",
       "      <th>Total Bags</th>\n",
       "      <th>Small Bags</th>\n",
       "      <th>Large Bags</th>\n",
       "      <th>XLarge Bags</th>\n",
       "      <th>type</th>\n",
       "    </tr>\n",
       "  </thead>\n",
       "  <tbody>\n",
       "    <tr>\n",
       "      <th>0</th>\n",
       "      <td>1.33000</td>\n",
       "      <td>6.423662e+04</td>\n",
       "      <td>1036.740000</td>\n",
       "      <td>54454.850000</td>\n",
       "      <td>48.160000</td>\n",
       "      <td>8696.870000</td>\n",
       "      <td>8603.620000</td>\n",
       "      <td>93.250000</td>\n",
       "      <td>0.000000</td>\n",
       "      <td>0.0</td>\n",
       "    </tr>\n",
       "    <tr>\n",
       "      <th>1</th>\n",
       "      <td>1.35000</td>\n",
       "      <td>5.487698e+04</td>\n",
       "      <td>674.280000</td>\n",
       "      <td>44638.810000</td>\n",
       "      <td>58.330000</td>\n",
       "      <td>9505.560000</td>\n",
       "      <td>9408.070000</td>\n",
       "      <td>97.490000</td>\n",
       "      <td>0.000000</td>\n",
       "      <td>0.0</td>\n",
       "    </tr>\n",
       "    <tr>\n",
       "      <th>2</th>\n",
       "      <td>0.93000</td>\n",
       "      <td>1.182202e+05</td>\n",
       "      <td>794.700000</td>\n",
       "      <td>109149.670000</td>\n",
       "      <td>130.500000</td>\n",
       "      <td>8145.350000</td>\n",
       "      <td>8042.210000</td>\n",
       "      <td>103.140000</td>\n",
       "      <td>0.000000</td>\n",
       "      <td>0.0</td>\n",
       "    </tr>\n",
       "    <tr>\n",
       "      <th>3</th>\n",
       "      <td>1.08000</td>\n",
       "      <td>7.899215e+04</td>\n",
       "      <td>1132.000000</td>\n",
       "      <td>71976.410000</td>\n",
       "      <td>72.580000</td>\n",
       "      <td>5811.160000</td>\n",
       "      <td>5677.400000</td>\n",
       "      <td>133.760000</td>\n",
       "      <td>0.000000</td>\n",
       "      <td>0.0</td>\n",
       "    </tr>\n",
       "    <tr>\n",
       "      <th>4</th>\n",
       "      <td>1.28000</td>\n",
       "      <td>5.103960e+04</td>\n",
       "      <td>941.480000</td>\n",
       "      <td>43838.390000</td>\n",
       "      <td>75.780000</td>\n",
       "      <td>6183.950000</td>\n",
       "      <td>5986.260000</td>\n",
       "      <td>197.690000</td>\n",
       "      <td>0.000000</td>\n",
       "      <td>0.0</td>\n",
       "    </tr>\n",
       "    <tr>\n",
       "      <th>...</th>\n",
       "      <td>...</td>\n",
       "      <td>...</td>\n",
       "      <td>...</td>\n",
       "      <td>...</td>\n",
       "      <td>...</td>\n",
       "      <td>...</td>\n",
       "      <td>...</td>\n",
       "      <td>...</td>\n",
       "      <td>...</td>\n",
       "      <td>...</td>\n",
       "    </tr>\n",
       "    <tr>\n",
       "      <th>16463</th>\n",
       "      <td>1.07499</td>\n",
       "      <td>1.601879e+06</td>\n",
       "      <td>646438.654113</td>\n",
       "      <td>611437.502591</td>\n",
       "      <td>50405.495399</td>\n",
       "      <td>293597.415735</td>\n",
       "      <td>248773.595287</td>\n",
       "      <td>42642.049374</td>\n",
       "      <td>2181.771074</td>\n",
       "      <td>0.0</td>\n",
       "    </tr>\n",
       "    <tr>\n",
       "      <th>16464</th>\n",
       "      <td>1.07499</td>\n",
       "      <td>1.601879e+06</td>\n",
       "      <td>646438.654113</td>\n",
       "      <td>611437.502591</td>\n",
       "      <td>50405.495399</td>\n",
       "      <td>293597.415735</td>\n",
       "      <td>248773.595287</td>\n",
       "      <td>42642.049374</td>\n",
       "      <td>2181.771074</td>\n",
       "      <td>0.0</td>\n",
       "    </tr>\n",
       "    <tr>\n",
       "      <th>16465</th>\n",
       "      <td>1.07499</td>\n",
       "      <td>1.601879e+06</td>\n",
       "      <td>646438.654113</td>\n",
       "      <td>611437.502591</td>\n",
       "      <td>50405.495399</td>\n",
       "      <td>293597.415735</td>\n",
       "      <td>248773.595287</td>\n",
       "      <td>42642.049374</td>\n",
       "      <td>2181.771074</td>\n",
       "      <td>0.0</td>\n",
       "    </tr>\n",
       "    <tr>\n",
       "      <th>16466</th>\n",
       "      <td>1.07499</td>\n",
       "      <td>1.601879e+06</td>\n",
       "      <td>646438.654113</td>\n",
       "      <td>611437.502591</td>\n",
       "      <td>50405.495399</td>\n",
       "      <td>293597.415735</td>\n",
       "      <td>248773.595287</td>\n",
       "      <td>42642.049374</td>\n",
       "      <td>2181.771074</td>\n",
       "      <td>0.0</td>\n",
       "    </tr>\n",
       "    <tr>\n",
       "      <th>16467</th>\n",
       "      <td>1.07499</td>\n",
       "      <td>1.601879e+06</td>\n",
       "      <td>646438.654113</td>\n",
       "      <td>611437.502591</td>\n",
       "      <td>50405.495399</td>\n",
       "      <td>293597.415735</td>\n",
       "      <td>248773.595287</td>\n",
       "      <td>42642.049374</td>\n",
       "      <td>2181.771074</td>\n",
       "      <td>0.0</td>\n",
       "    </tr>\n",
       "  </tbody>\n",
       "</table>\n",
       "<p>16468 rows × 10 columns</p>\n",
       "</div>"
      ],
      "text/plain": [
       "       AveragePrice  Total Volume           4046           4225          4770  \\\n",
       "0           1.33000  6.423662e+04    1036.740000   54454.850000     48.160000   \n",
       "1           1.35000  5.487698e+04     674.280000   44638.810000     58.330000   \n",
       "2           0.93000  1.182202e+05     794.700000  109149.670000    130.500000   \n",
       "3           1.08000  7.899215e+04    1132.000000   71976.410000     72.580000   \n",
       "4           1.28000  5.103960e+04     941.480000   43838.390000     75.780000   \n",
       "...             ...           ...            ...            ...           ...   \n",
       "16463       1.07499  1.601879e+06  646438.654113  611437.502591  50405.495399   \n",
       "16464       1.07499  1.601879e+06  646438.654113  611437.502591  50405.495399   \n",
       "16465       1.07499  1.601879e+06  646438.654113  611437.502591  50405.495399   \n",
       "16466       1.07499  1.601879e+06  646438.654113  611437.502591  50405.495399   \n",
       "16467       1.07499  1.601879e+06  646438.654113  611437.502591  50405.495399   \n",
       "\n",
       "          Total Bags     Small Bags    Large Bags  XLarge Bags  type  \n",
       "0        8696.870000    8603.620000     93.250000     0.000000   0.0  \n",
       "1        9505.560000    9408.070000     97.490000     0.000000   0.0  \n",
       "2        8145.350000    8042.210000    103.140000     0.000000   0.0  \n",
       "3        5811.160000    5677.400000    133.760000     0.000000   0.0  \n",
       "4        6183.950000    5986.260000    197.690000     0.000000   0.0  \n",
       "...              ...            ...           ...          ...   ...  \n",
       "16463  293597.415735  248773.595287  42642.049374  2181.771074   0.0  \n",
       "16464  293597.415735  248773.595287  42642.049374  2181.771074   0.0  \n",
       "16465  293597.415735  248773.595287  42642.049374  2181.771074   0.0  \n",
       "16466  293597.415735  248773.595287  42642.049374  2181.771074   0.0  \n",
       "16467  293597.415735  248773.595287  42642.049374  2181.771074   0.0  \n",
       "\n",
       "[16468 rows x 10 columns]"
      ]
     },
     "execution_count": 179,
     "metadata": {},
     "output_type": "execute_result"
    }
   ],
   "source": [
    "df_new=df_.drop(columns=['region','Date'],axis=1)\n",
    "df_new"
   ]
  },
  {
   "cell_type": "code",
   "execution_count": 180,
   "id": "a26937a0",
   "metadata": {},
   "outputs": [],
   "source": [
    "##"
   ]
  },
  {
   "cell_type": "code",
   "execution_count": 181,
   "id": "49776cf3",
   "metadata": {},
   "outputs": [
    {
     "data": {
      "text/html": [
       "<div>\n",
       "<style scoped>\n",
       "    .dataframe tbody tr th:only-of-type {\n",
       "        vertical-align: middle;\n",
       "    }\n",
       "\n",
       "    .dataframe tbody tr th {\n",
       "        vertical-align: top;\n",
       "    }\n",
       "\n",
       "    .dataframe thead th {\n",
       "        text-align: right;\n",
       "    }\n",
       "</style>\n",
       "<table border=\"1\" class=\"dataframe\">\n",
       "  <thead>\n",
       "    <tr style=\"text-align: right;\">\n",
       "      <th></th>\n",
       "      <th>AveragePrice</th>\n",
       "      <th>Total Volume</th>\n",
       "      <th>4046</th>\n",
       "      <th>4225</th>\n",
       "      <th>4770</th>\n",
       "      <th>Total Bags</th>\n",
       "      <th>Small Bags</th>\n",
       "      <th>Large Bags</th>\n",
       "      <th>XLarge Bags</th>\n",
       "      <th>type</th>\n",
       "    </tr>\n",
       "  </thead>\n",
       "  <tbody>\n",
       "    <tr>\n",
       "      <th>count</th>\n",
       "      <td>16468.000000</td>\n",
       "      <td>1.646800e+04</td>\n",
       "      <td>1.646800e+04</td>\n",
       "      <td>1.646800e+04</td>\n",
       "      <td>1.646800e+04</td>\n",
       "      <td>1.646800e+04</td>\n",
       "      <td>1.646800e+04</td>\n",
       "      <td>1.646800e+04</td>\n",
       "      <td>16468.000000</td>\n",
       "      <td>16468.0</td>\n",
       "    </tr>\n",
       "    <tr>\n",
       "      <th>mean</th>\n",
       "      <td>1.074990</td>\n",
       "      <td>1.601879e+06</td>\n",
       "      <td>6.464387e+05</td>\n",
       "      <td>6.114375e+05</td>\n",
       "      <td>5.040550e+04</td>\n",
       "      <td>2.935974e+05</td>\n",
       "      <td>2.487736e+05</td>\n",
       "      <td>4.264205e+04</td>\n",
       "      <td>2181.771074</td>\n",
       "      <td>0.0</td>\n",
       "    </tr>\n",
       "    <tr>\n",
       "      <th>std</th>\n",
       "      <td>0.057313</td>\n",
       "      <td>1.345098e+06</td>\n",
       "      <td>5.909424e+05</td>\n",
       "      <td>5.075910e+05</td>\n",
       "      <td>4.180541e+04</td>\n",
       "      <td>2.299843e+05</td>\n",
       "      <td>1.964565e+05</td>\n",
       "      <td>3.586885e+04</td>\n",
       "      <td>2262.202563</td>\n",
       "      <td>0.0</td>\n",
       "    </tr>\n",
       "    <tr>\n",
       "      <th>min</th>\n",
       "      <td>0.490000</td>\n",
       "      <td>3.875074e+04</td>\n",
       "      <td>4.677200e+02</td>\n",
       "      <td>1.783770e+03</td>\n",
       "      <td>0.000000e+00</td>\n",
       "      <td>3.311770e+03</td>\n",
       "      <td>3.311770e+03</td>\n",
       "      <td>0.000000e+00</td>\n",
       "      <td>0.000000</td>\n",
       "      <td>0.0</td>\n",
       "    </tr>\n",
       "    <tr>\n",
       "      <th>25%</th>\n",
       "      <td>1.074990</td>\n",
       "      <td>1.601879e+06</td>\n",
       "      <td>6.464387e+05</td>\n",
       "      <td>6.114375e+05</td>\n",
       "      <td>5.040550e+04</td>\n",
       "      <td>2.935974e+05</td>\n",
       "      <td>2.487736e+05</td>\n",
       "      <td>4.264205e+04</td>\n",
       "      <td>2181.771074</td>\n",
       "      <td>0.0</td>\n",
       "    </tr>\n",
       "    <tr>\n",
       "      <th>50%</th>\n",
       "      <td>1.074990</td>\n",
       "      <td>1.601879e+06</td>\n",
       "      <td>6.464387e+05</td>\n",
       "      <td>6.114375e+05</td>\n",
       "      <td>5.040550e+04</td>\n",
       "      <td>2.935974e+05</td>\n",
       "      <td>2.487736e+05</td>\n",
       "      <td>4.264205e+04</td>\n",
       "      <td>2181.771074</td>\n",
       "      <td>0.0</td>\n",
       "    </tr>\n",
       "    <tr>\n",
       "      <th>75%</th>\n",
       "      <td>1.074990</td>\n",
       "      <td>1.601879e+06</td>\n",
       "      <td>6.464387e+05</td>\n",
       "      <td>6.114375e+05</td>\n",
       "      <td>5.040550e+04</td>\n",
       "      <td>2.935974e+05</td>\n",
       "      <td>2.487736e+05</td>\n",
       "      <td>4.264205e+04</td>\n",
       "      <td>2181.771074</td>\n",
       "      <td>0.0</td>\n",
       "    </tr>\n",
       "    <tr>\n",
       "      <th>max</th>\n",
       "      <td>1.680000</td>\n",
       "      <td>4.465546e+07</td>\n",
       "      <td>1.893304e+07</td>\n",
       "      <td>1.895648e+07</td>\n",
       "      <td>1.381516e+06</td>\n",
       "      <td>6.736304e+06</td>\n",
       "      <td>5.893642e+06</td>\n",
       "      <td>1.121076e+06</td>\n",
       "      <td>108072.790000</td>\n",
       "      <td>0.0</td>\n",
       "    </tr>\n",
       "  </tbody>\n",
       "</table>\n",
       "</div>"
      ],
      "text/plain": [
       "       AveragePrice  Total Volume          4046          4225          4770  \\\n",
       "count  16468.000000  1.646800e+04  1.646800e+04  1.646800e+04  1.646800e+04   \n",
       "mean       1.074990  1.601879e+06  6.464387e+05  6.114375e+05  5.040550e+04   \n",
       "std        0.057313  1.345098e+06  5.909424e+05  5.075910e+05  4.180541e+04   \n",
       "min        0.490000  3.875074e+04  4.677200e+02  1.783770e+03  0.000000e+00   \n",
       "25%        1.074990  1.601879e+06  6.464387e+05  6.114375e+05  5.040550e+04   \n",
       "50%        1.074990  1.601879e+06  6.464387e+05  6.114375e+05  5.040550e+04   \n",
       "75%        1.074990  1.601879e+06  6.464387e+05  6.114375e+05  5.040550e+04   \n",
       "max        1.680000  4.465546e+07  1.893304e+07  1.895648e+07  1.381516e+06   \n",
       "\n",
       "         Total Bags    Small Bags    Large Bags    XLarge Bags     type  \n",
       "count  1.646800e+04  1.646800e+04  1.646800e+04   16468.000000  16468.0  \n",
       "mean   2.935974e+05  2.487736e+05  4.264205e+04    2181.771074      0.0  \n",
       "std    2.299843e+05  1.964565e+05  3.586885e+04    2262.202563      0.0  \n",
       "min    3.311770e+03  3.311770e+03  0.000000e+00       0.000000      0.0  \n",
       "25%    2.935974e+05  2.487736e+05  4.264205e+04    2181.771074      0.0  \n",
       "50%    2.935974e+05  2.487736e+05  4.264205e+04    2181.771074      0.0  \n",
       "75%    2.935974e+05  2.487736e+05  4.264205e+04    2181.771074      0.0  \n",
       "max    6.736304e+06  5.893642e+06  1.121076e+06  108072.790000      0.0  "
      ]
     },
     "execution_count": 181,
     "metadata": {},
     "output_type": "execute_result"
    }
   ],
   "source": [
    "df_new.describe()\n"
   ]
  },
  {
   "cell_type": "code",
   "execution_count": 182,
   "id": "1e81b324",
   "metadata": {},
   "outputs": [
    {
     "data": {
      "text/plain": [
       "AveragePrice    0.0\n",
       "Total Volume    0.0\n",
       "4046            0.0\n",
       "4225            0.0\n",
       "4770            0.0\n",
       "Total Bags      0.0\n",
       "Small Bags      0.0\n",
       "Large Bags      0.0\n",
       "XLarge Bags     0.0\n",
       "type            0.0\n",
       "dtype: float64"
      ]
     },
     "execution_count": 182,
     "metadata": {},
     "output_type": "execute_result"
    }
   ],
   "source": [
    "q1=df_new.quantile(0.25)\n",
    "q3=df_new.quantile(0.75)\n",
    "iqr=q3-q1\n",
    "iqr"
   ]
  },
  {
   "cell_type": "code",
   "execution_count": 183,
   "id": "244e6078",
   "metadata": {},
   "outputs": [
    {
     "data": {
      "text/plain": [
       "1.0749901120632825"
      ]
     },
     "execution_count": 183,
     "metadata": {},
     "output_type": "execute_result"
    }
   ],
   "source": [
    "  AveragePrice_=(q3.AveragePrice+(1.5*iqr.AveragePrice))\n",
    "AveragePrice_"
   ]
  },
  {
   "cell_type": "code",
   "execution_count": 184,
   "id": "2832a92f",
   "metadata": {},
   "outputs": [
    {
     "data": {
      "text/plain": [
       "(array([   0,    1,    3,    4,    5,   10,   11,   12,   14,   15,   16,\n",
       "          18,   19,   20,   21,   22,   23,   25,   26,   27,   28,   30,\n",
       "          31,   32,   33,   34,   35,   36,   37,   38,   40,   41,   49,\n",
       "          50,   51,   53,   58,   59,   61,   62,   69,   70,   71,   73,\n",
       "          74,   76,   78,   80,   82,   84,   85,   87,   88,   91,   92,\n",
       "          93,   95,   96,   99,  100,  102,  103,  104,  105,  106,  107,\n",
       "         108,  109,  110,  111,  112,  113,  114,  115,  116,  117,  118,\n",
       "         119,  120,  121,  122,  123,  124,  125,  126,  127,  128,  129,\n",
       "         130,  131,  133,  134,  137,  139,  143,  151,  152,  154,  156,\n",
       "         157,  158,  159,  160,  161,  162,  163,  164,  165,  166,  167,\n",
       "         168,  170,  171,  172,  173,  175,  176,  177,  178,  179,  180,\n",
       "         181,  182,  183,  184,  185,  186,  187,  188,  189,  190,  191,\n",
       "         192,  193,  194,  199,  200,  203,  206,  207,  208,  209,  210,\n",
       "         211,  212,  214,  215,  216,  217,  218,  219,  220,  221,  222,\n",
       "         223,  224,  225,  226,  227,  228,  229,  230,  231,  232,  233,\n",
       "         234,  235,  236,  237,  238,  240,  241,  242,  243,  244,  245,\n",
       "         246,  265,  277,  280,  285,  291,  311,  312,  313,  314,  315,\n",
       "         316,  318,  319,  321,  322,  323,  328,  333,  335,  336,  339,\n",
       "         340,  341,  344,  347,  348,  351,  353,  365,  368,  373,  375,\n",
       "         376,  377,  380,  381,  382,  384,  386,  388,  389,  390,  392,\n",
       "         393,  395,  396,  397,  398,  399,  400,  401,  402,  404,  406,\n",
       "         407,  408,  410,  413,  414,  416,  417,  418,  419,  420,  421,\n",
       "         422,  423,  424,  425,  427,  428,  431,  432,  433,  435,  436,\n",
       "         437,  438,  439,  440,  441,  442,  443,  444,  446,  447,  477,\n",
       "         478,  479,  480,  481,  482,  484,  485,  486,  490,  491,  494,\n",
       "         496,  499,  500,  502,  503,  506,  508,  510,  511,  512,  514,\n",
       "         515,  517,  519,  521,  523,  525,  526,  528,  529,  531,  532,\n",
       "         537,  538,  559,  560,  564,  565,  566,  567,  570,  571,  572,\n",
       "         573,  574,  579,  580,  581,  582,  584,  585,  587,  588,  590,\n",
       "         591,  592,  594,  595,  596,  606,  607,  609,  610,  611,  612,\n",
       "         613,  614,  615,  626,  627,  632,  633,  640,  641,  642,  643,\n",
       "         644,  645,  646,  648,  650,  652,  653,  654,  655,  656,  657,\n",
       "         658,  659,  660,  661,  662,  663,  664,  665,  666,  667,  668,\n",
       "         669,  670,  671,  672,  673,  674,  675,  676,  677,  678,  679,\n",
       "         680,  681,  682,  683,  684,  685,  686,  687,  688,  689,  690,\n",
       "         691,  692,  693,  694,  695,  696,  697,  698,  700,  701,  702,\n",
       "         706,  708,  709,  711,  712,  714,  715,  716,  718,  719,  721,\n",
       "         722,  723,  724,  727,  729,  731,  732,  734,  735,  737,  738,\n",
       "         740,  741,  743,  744,  745,  747,  748,  749,  750,  751,  752,\n",
       "         753,  754,  755,  756,  757,  758,  759,  812,  813,  814,  815,\n",
       "         816,  817,  818,  820,  821,  822,  825,  826,  827,  828,  829,\n",
       "         830,  831,  833,  834,  835,  836,  837,  838,  842,  844,  858,\n",
       "         862,  863,  864,  865,  866,  867,  868,  869,  871,  872,  873,\n",
       "         874,  875,  876,  877,  878,  879,  880,  881,  882,  883,  884,\n",
       "         885,  886,  888,  889,  890,  891,  916,  917,  919,  920,  921,\n",
       "         922,  923,  924,  925,  926,  927,  928,  938,  941,  944,  947,\n",
       "         951,  952,  953,  960,  964,  967,  968,  969,  970,  971,  972,\n",
       "         973,  975,  976,  979,  980,  983,  984,  987,  991,  992,  994,\n",
       "         996,  997,  999, 1000, 1002, 1003, 1005, 1006, 1009, 1013, 1014,\n",
       "        1056, 1057, 1058, 1060, 1061, 1062, 1065, 1068, 1069, 1071, 1072,\n",
       "        1073, 1074, 1077, 1080, 1081, 1082, 1083, 1084, 1085, 1086, 1087,\n",
       "        1089, 1090, 1091, 1092, 1093, 1094, 1096, 1099, 1101, 1102, 1103,\n",
       "        1104, 1105, 1106, 1109, 1112, 1113, 1114, 1115, 1116, 1117, 1118,\n",
       "        1119, 1120, 1121, 1122, 1123, 1124, 1125, 1126, 1127, 1128, 1129,\n",
       "        1130, 1131, 1132, 1133, 1134, 1135, 1136, 1137, 1138, 1139, 1140,\n",
       "        1141, 1142, 1143, 1144, 1145, 1146, 1147, 1149, 1151, 1154, 1155,\n",
       "        1157, 1158, 1161, 1163, 1165, 1166, 1167, 1169, 1170, 1172, 1174,\n",
       "        1176, 1178, 1180, 1181, 1270, 1271, 1272, 1273, 1274, 1275, 1276,\n",
       "        1277, 1278, 1279, 1280, 1281, 1282, 1283, 1284, 1300, 1301, 1302,\n",
       "        1303, 1304, 1307, 1308, 1309, 1310, 1311, 1312, 1313, 1314, 1315,\n",
       "        1316, 1317, 1318, 1319, 1320, 1321, 1322, 1323, 1328, 1329, 1330,\n",
       "        1331, 1332, 1333, 1334, 1364, 1365, 1366, 1367, 1368, 1369, 1370,\n",
       "        1371, 1372, 1373, 1374, 1375, 1376, 1377, 1378, 1379, 1380, 1381,\n",
       "        1382, 1383, 1384, 1385, 1386, 1392, 1394, 1395, 1396, 1398, 1399,\n",
       "        1400, 1406, 1408, 1409, 1410, 1411, 1412, 1413, 1414, 1415, 1416,\n",
       "        1417, 1418, 1419, 1420, 1421, 1422, 1423, 1424, 1425, 1426, 1427,\n",
       "        1428, 1429, 1430, 1431, 1432, 1433, 1434, 1435, 1437, 1438, 1439,\n",
       "        1440, 1441, 1442, 1443, 1444, 1445, 1446, 1447, 1448, 1449, 1454,\n",
       "        1455, 1456, 1457, 1458, 1459, 1460, 1461, 1462, 1463, 1464, 1465,\n",
       "        1466, 1470, 1471, 1472, 1473, 1474, 1475, 1502, 1503, 1504, 1505,\n",
       "        1506, 1507, 1508, 1509, 1510, 1511, 1512, 1513, 1514, 1515, 1516],\n",
       "       dtype=int64),)"
      ]
     },
     "execution_count": 184,
     "metadata": {},
     "output_type": "execute_result"
    }
   ],
   "source": [
    "index=np.where(df_new['AveragePrice']>AveragePrice_)\n",
    "index"
   ]
  },
  {
   "cell_type": "code",
   "execution_count": 185,
   "id": "1d5410a7",
   "metadata": {},
   "outputs": [
    {
     "data": {
      "text/plain": [
       "(15687, 10)"
      ]
     },
     "execution_count": 185,
     "metadata": {},
     "output_type": "execute_result"
    }
   ],
   "source": [
    "df_new=df_new.drop(df_new.index[index])\n",
    "df_new.shape"
   ]
  },
  {
   "cell_type": "code",
   "execution_count": 186,
   "id": "ab311b9d",
   "metadata": {},
   "outputs": [],
   "source": [
    "##df_new.skew()"
   ]
  },
  {
   "cell_type": "code",
   "execution_count": 187,
   "id": "b426113e",
   "metadata": {},
   "outputs": [
    {
     "data": {
      "text/html": [
       "<div>\n",
       "<style scoped>\n",
       "    .dataframe tbody tr th:only-of-type {\n",
       "        vertical-align: middle;\n",
       "    }\n",
       "\n",
       "    .dataframe tbody tr th {\n",
       "        vertical-align: top;\n",
       "    }\n",
       "\n",
       "    .dataframe thead th {\n",
       "        text-align: right;\n",
       "    }\n",
       "</style>\n",
       "<table border=\"1\" class=\"dataframe\">\n",
       "  <thead>\n",
       "    <tr style=\"text-align: right;\">\n",
       "      <th></th>\n",
       "      <th>index</th>\n",
       "      <th>AveragePrice</th>\n",
       "      <th>Total Volume</th>\n",
       "      <th>4046</th>\n",
       "      <th>4225</th>\n",
       "      <th>4770</th>\n",
       "      <th>Total Bags</th>\n",
       "      <th>Small Bags</th>\n",
       "      <th>Large Bags</th>\n",
       "      <th>XLarge Bags</th>\n",
       "      <th>type</th>\n",
       "    </tr>\n",
       "  </thead>\n",
       "  <tbody>\n",
       "    <tr>\n",
       "      <th>0</th>\n",
       "      <td>2</td>\n",
       "      <td>0.93000</td>\n",
       "      <td>1.182202e+05</td>\n",
       "      <td>794.700000</td>\n",
       "      <td>109149.670000</td>\n",
       "      <td>130.500000</td>\n",
       "      <td>8145.350000</td>\n",
       "      <td>8042.210000</td>\n",
       "      <td>103.140000</td>\n",
       "      <td>0.000000</td>\n",
       "      <td>0.0</td>\n",
       "    </tr>\n",
       "    <tr>\n",
       "      <th>1</th>\n",
       "      <td>6</td>\n",
       "      <td>0.99000</td>\n",
       "      <td>8.345376e+04</td>\n",
       "      <td>1368.920000</td>\n",
       "      <td>73672.720000</td>\n",
       "      <td>93.260000</td>\n",
       "      <td>8318.860000</td>\n",
       "      <td>8196.810000</td>\n",
       "      <td>122.050000</td>\n",
       "      <td>0.000000</td>\n",
       "      <td>0.0</td>\n",
       "    </tr>\n",
       "    <tr>\n",
       "      <th>2</th>\n",
       "      <td>7</td>\n",
       "      <td>0.98000</td>\n",
       "      <td>1.094283e+05</td>\n",
       "      <td>703.750000</td>\n",
       "      <td>101815.360000</td>\n",
       "      <td>80.000000</td>\n",
       "      <td>6829.220000</td>\n",
       "      <td>6266.850000</td>\n",
       "      <td>562.370000</td>\n",
       "      <td>0.000000</td>\n",
       "      <td>0.0</td>\n",
       "    </tr>\n",
       "    <tr>\n",
       "      <th>3</th>\n",
       "      <td>8</td>\n",
       "      <td>1.02000</td>\n",
       "      <td>9.981142e+04</td>\n",
       "      <td>1022.150000</td>\n",
       "      <td>87315.570000</td>\n",
       "      <td>85.340000</td>\n",
       "      <td>11388.360000</td>\n",
       "      <td>11104.530000</td>\n",
       "      <td>283.830000</td>\n",
       "      <td>0.000000</td>\n",
       "      <td>0.0</td>\n",
       "    </tr>\n",
       "    <tr>\n",
       "      <th>4</th>\n",
       "      <td>9</td>\n",
       "      <td>1.07000</td>\n",
       "      <td>7.433876e+04</td>\n",
       "      <td>842.400000</td>\n",
       "      <td>64757.440000</td>\n",
       "      <td>113.000000</td>\n",
       "      <td>8625.920000</td>\n",
       "      <td>8061.470000</td>\n",
       "      <td>564.450000</td>\n",
       "      <td>0.000000</td>\n",
       "      <td>0.0</td>\n",
       "    </tr>\n",
       "    <tr>\n",
       "      <th>...</th>\n",
       "      <td>...</td>\n",
       "      <td>...</td>\n",
       "      <td>...</td>\n",
       "      <td>...</td>\n",
       "      <td>...</td>\n",
       "      <td>...</td>\n",
       "      <td>...</td>\n",
       "      <td>...</td>\n",
       "      <td>...</td>\n",
       "      <td>...</td>\n",
       "      <td>...</td>\n",
       "    </tr>\n",
       "    <tr>\n",
       "      <th>15682</th>\n",
       "      <td>16463</td>\n",
       "      <td>1.07499</td>\n",
       "      <td>1.601879e+06</td>\n",
       "      <td>646438.654113</td>\n",
       "      <td>611437.502591</td>\n",
       "      <td>50405.495399</td>\n",
       "      <td>293597.415735</td>\n",
       "      <td>248773.595287</td>\n",
       "      <td>42642.049374</td>\n",
       "      <td>2181.771074</td>\n",
       "      <td>0.0</td>\n",
       "    </tr>\n",
       "    <tr>\n",
       "      <th>15683</th>\n",
       "      <td>16464</td>\n",
       "      <td>1.07499</td>\n",
       "      <td>1.601879e+06</td>\n",
       "      <td>646438.654113</td>\n",
       "      <td>611437.502591</td>\n",
       "      <td>50405.495399</td>\n",
       "      <td>293597.415735</td>\n",
       "      <td>248773.595287</td>\n",
       "      <td>42642.049374</td>\n",
       "      <td>2181.771074</td>\n",
       "      <td>0.0</td>\n",
       "    </tr>\n",
       "    <tr>\n",
       "      <th>15684</th>\n",
       "      <td>16465</td>\n",
       "      <td>1.07499</td>\n",
       "      <td>1.601879e+06</td>\n",
       "      <td>646438.654113</td>\n",
       "      <td>611437.502591</td>\n",
       "      <td>50405.495399</td>\n",
       "      <td>293597.415735</td>\n",
       "      <td>248773.595287</td>\n",
       "      <td>42642.049374</td>\n",
       "      <td>2181.771074</td>\n",
       "      <td>0.0</td>\n",
       "    </tr>\n",
       "    <tr>\n",
       "      <th>15685</th>\n",
       "      <td>16466</td>\n",
       "      <td>1.07499</td>\n",
       "      <td>1.601879e+06</td>\n",
       "      <td>646438.654113</td>\n",
       "      <td>611437.502591</td>\n",
       "      <td>50405.495399</td>\n",
       "      <td>293597.415735</td>\n",
       "      <td>248773.595287</td>\n",
       "      <td>42642.049374</td>\n",
       "      <td>2181.771074</td>\n",
       "      <td>0.0</td>\n",
       "    </tr>\n",
       "    <tr>\n",
       "      <th>15686</th>\n",
       "      <td>16467</td>\n",
       "      <td>1.07499</td>\n",
       "      <td>1.601879e+06</td>\n",
       "      <td>646438.654113</td>\n",
       "      <td>611437.502591</td>\n",
       "      <td>50405.495399</td>\n",
       "      <td>293597.415735</td>\n",
       "      <td>248773.595287</td>\n",
       "      <td>42642.049374</td>\n",
       "      <td>2181.771074</td>\n",
       "      <td>0.0</td>\n",
       "    </tr>\n",
       "  </tbody>\n",
       "</table>\n",
       "<p>15687 rows × 11 columns</p>\n",
       "</div>"
      ],
      "text/plain": [
       "       index  AveragePrice  Total Volume           4046           4225  \\\n",
       "0          2       0.93000  1.182202e+05     794.700000  109149.670000   \n",
       "1          6       0.99000  8.345376e+04    1368.920000   73672.720000   \n",
       "2          7       0.98000  1.094283e+05     703.750000  101815.360000   \n",
       "3          8       1.02000  9.981142e+04    1022.150000   87315.570000   \n",
       "4          9       1.07000  7.433876e+04     842.400000   64757.440000   \n",
       "...      ...           ...           ...            ...            ...   \n",
       "15682  16463       1.07499  1.601879e+06  646438.654113  611437.502591   \n",
       "15683  16464       1.07499  1.601879e+06  646438.654113  611437.502591   \n",
       "15684  16465       1.07499  1.601879e+06  646438.654113  611437.502591   \n",
       "15685  16466       1.07499  1.601879e+06  646438.654113  611437.502591   \n",
       "15686  16467       1.07499  1.601879e+06  646438.654113  611437.502591   \n",
       "\n",
       "               4770     Total Bags     Small Bags    Large Bags  XLarge Bags  \\\n",
       "0        130.500000    8145.350000    8042.210000    103.140000     0.000000   \n",
       "1         93.260000    8318.860000    8196.810000    122.050000     0.000000   \n",
       "2         80.000000    6829.220000    6266.850000    562.370000     0.000000   \n",
       "3         85.340000   11388.360000   11104.530000    283.830000     0.000000   \n",
       "4        113.000000    8625.920000    8061.470000    564.450000     0.000000   \n",
       "...             ...            ...            ...           ...          ...   \n",
       "15682  50405.495399  293597.415735  248773.595287  42642.049374  2181.771074   \n",
       "15683  50405.495399  293597.415735  248773.595287  42642.049374  2181.771074   \n",
       "15684  50405.495399  293597.415735  248773.595287  42642.049374  2181.771074   \n",
       "15685  50405.495399  293597.415735  248773.595287  42642.049374  2181.771074   \n",
       "15686  50405.495399  293597.415735  248773.595287  42642.049374  2181.771074   \n",
       "\n",
       "       type  \n",
       "0       0.0  \n",
       "1       0.0  \n",
       "2       0.0  \n",
       "3       0.0  \n",
       "4       0.0  \n",
       "...     ...  \n",
       "15682   0.0  \n",
       "15683   0.0  \n",
       "15684   0.0  \n",
       "15685   0.0  \n",
       "15686   0.0  \n",
       "\n",
       "[15687 rows x 11 columns]"
      ]
     },
     "execution_count": 187,
     "metadata": {},
     "output_type": "execute_result"
    }
   ],
   "source": [
    "df_new.reset_index()"
   ]
  },
  {
   "cell_type": "code",
   "execution_count": null,
   "id": "d7ffa035",
   "metadata": {},
   "outputs": [],
   "source": []
  },
  {
   "cell_type": "code",
   "execution_count": 188,
   "id": "56ada0be",
   "metadata": {},
   "outputs": [],
   "source": [
    "tot_vol=1.601879e+06"
   ]
  },
  {
   "cell_type": "code",
   "execution_count": 189,
   "id": "94357ea1",
   "metadata": {},
   "outputs": [
    {
     "data": {
      "text/plain": [
       "(array([   60,    61,    62, ..., 15684, 15685, 15686], dtype=int64),)"
      ]
     },
     "execution_count": 189,
     "metadata": {},
     "output_type": "execute_result"
    }
   ],
   "source": [
    "index=np.where(df_new['Total Volume']>tot_vol)\n",
    "index"
   ]
  },
  {
   "cell_type": "code",
   "execution_count": 190,
   "id": "1dd099a1",
   "metadata": {},
   "outputs": [
    {
     "data": {
      "text/plain": [
       "(568, 10)"
      ]
     },
     "execution_count": 190,
     "metadata": {},
     "output_type": "execute_result"
    }
   ],
   "source": [
    "df_new=df_new.drop(df_new.index[index])\n",
    "df_new.shape"
   ]
  },
  {
   "cell_type": "code",
   "execution_count": 191,
   "id": "647fb566",
   "metadata": {},
   "outputs": [],
   "source": [
    "dec_=6.464387e+05"
   ]
  },
  {
   "cell_type": "code",
   "execution_count": 192,
   "id": "9674ac15",
   "metadata": {
    "scrolled": true
   },
   "outputs": [
    {
     "data": {
      "text/plain": [
       "(array([104, 105, 106, 107, 108, 109, 111, 112, 113, 114, 115, 117, 118,\n",
       "        119, 176, 179, 180, 181, 182, 183, 184, 185, 186, 296, 297, 299,\n",
       "        302, 303, 306, 312, 315, 320, 321, 322, 323, 324, 325, 326, 327,\n",
       "        328, 329, 330, 331, 332, 333, 334, 335, 336, 337, 338, 339, 340,\n",
       "        341, 342, 343, 344, 345, 346, 347, 352, 478, 480, 481, 483, 484,\n",
       "        485, 486, 488, 490], dtype=int64),)"
      ]
     },
     "execution_count": 192,
     "metadata": {},
     "output_type": "execute_result"
    }
   ],
   "source": [
    "index=np.where(df_new['4046']>dec_)\n",
    "index"
   ]
  },
  {
   "cell_type": "code",
   "execution_count": 193,
   "id": "635f9b37",
   "metadata": {},
   "outputs": [
    {
     "data": {
      "text/plain": [
       "(499, 10)"
      ]
     },
     "execution_count": 193,
     "metadata": {},
     "output_type": "execute_result"
    }
   ],
   "source": [
    "df_new=df_new.drop(df_new.index[index])\n",
    "df_new.shape"
   ]
  },
  {
   "cell_type": "code",
   "execution_count": 194,
   "id": "cc72886d",
   "metadata": {},
   "outputs": [],
   "source": [
    "he=6.114375e+05"
   ]
  },
  {
   "cell_type": "code",
   "execution_count": 195,
   "id": "4c6504e4",
   "metadata": {},
   "outputs": [
    {
     "data": {
      "text/plain": [
       "(array([ 41,  61, 254, 364, 366, 367, 368, 450, 451, 487], dtype=int64),)"
      ]
     },
     "execution_count": 195,
     "metadata": {},
     "output_type": "execute_result"
    }
   ],
   "source": [
    "index=np.where(df_new['4225']>he)\n",
    "index"
   ]
  },
  {
   "cell_type": "code",
   "execution_count": 196,
   "id": "315e3904",
   "metadata": {},
   "outputs": [
    {
     "data": {
      "text/plain": [
       "(489, 10)"
      ]
     },
     "execution_count": 196,
     "metadata": {},
     "output_type": "execute_result"
    }
   ],
   "source": [
    "df_new=df_new.drop(df_new.index[index])\n",
    "df_new.shape"
   ]
  },
  {
   "cell_type": "code",
   "execution_count": 197,
   "id": "24d3de1c",
   "metadata": {},
   "outputs": [],
   "source": [
    "ti=5.040550e+04"
   ]
  },
  {
   "cell_type": "code",
   "execution_count": 198,
   "id": "206863f0",
   "metadata": {},
   "outputs": [
    {
     "data": {
      "text/plain": [
       "(array([ 40,  59, 117, 118, 119, 120, 121, 122, 123, 124, 125, 126, 127,\n",
       "        128, 129, 130, 131, 133, 134, 135, 137, 138, 139, 140, 306, 476,\n",
       "        477, 478, 479, 480, 482], dtype=int64),)"
      ]
     },
     "execution_count": 198,
     "metadata": {},
     "output_type": "execute_result"
    }
   ],
   "source": [
    "index=np.where(df_new['4770']>ti)\n",
    "index"
   ]
  },
  {
   "cell_type": "code",
   "execution_count": 199,
   "id": "18801e99",
   "metadata": {},
   "outputs": [
    {
     "data": {
      "text/plain": [
       "(458, 10)"
      ]
     },
     "execution_count": 199,
     "metadata": {},
     "output_type": "execute_result"
    }
   ],
   "source": [
    "df_new=df_new.drop(df_new.index[index])\n",
    "df_new.shape"
   ]
  },
  {
   "cell_type": "code",
   "execution_count": 200,
   "id": "e63b584a",
   "metadata": {},
   "outputs": [],
   "source": [
    "tB=2.935974e+05"
   ]
  },
  {
   "cell_type": "code",
   "execution_count": 201,
   "id": "4d4da658",
   "metadata": {},
   "outputs": [
    {
     "data": {
      "text/plain": [
       "(array([269, 338], dtype=int64),)"
      ]
     },
     "execution_count": 201,
     "metadata": {},
     "output_type": "execute_result"
    }
   ],
   "source": [
    "index=np.where(df_new['Total Bags']>tB)\n",
    "index"
   ]
  },
  {
   "cell_type": "code",
   "execution_count": 202,
   "id": "9eeca884",
   "metadata": {},
   "outputs": [
    {
     "data": {
      "text/plain": [
       "(456, 10)"
      ]
     },
     "execution_count": 202,
     "metadata": {},
     "output_type": "execute_result"
    }
   ],
   "source": [
    "df_new=df_new.drop(df_new.index[index])\n",
    "df_new.shape"
   ]
  },
  {
   "cell_type": "code",
   "execution_count": 203,
   "id": "6404f0e3",
   "metadata": {},
   "outputs": [],
   "source": [
    "smal=2.487736e+05"
   ]
  },
  {
   "cell_type": "code",
   "execution_count": 204,
   "id": "83da8070",
   "metadata": {},
   "outputs": [
    {
     "data": {
      "text/plain": [
       "(array([271, 338], dtype=int64),)"
      ]
     },
     "execution_count": 204,
     "metadata": {},
     "output_type": "execute_result"
    }
   ],
   "source": [
    "index=np.where(df_new['Small Bags']>smal)\n",
    "index"
   ]
  },
  {
   "cell_type": "code",
   "execution_count": 205,
   "id": "d08af44d",
   "metadata": {},
   "outputs": [
    {
     "data": {
      "text/plain": [
       "(454, 10)"
      ]
     },
     "execution_count": 205,
     "metadata": {},
     "output_type": "execute_result"
    }
   ],
   "source": [
    "df_new=df_new.drop(df_new.index[index])\n",
    "df_new.shape"
   ]
  },
  {
   "cell_type": "code",
   "execution_count": 206,
   "id": "1f409f3c",
   "metadata": {},
   "outputs": [],
   "source": [
    "lb=4.264205e+04"
   ]
  },
  {
   "cell_type": "code",
   "execution_count": 207,
   "id": "da722b47",
   "metadata": {},
   "outputs": [
    {
     "data": {
      "text/plain": [
       "(array([ 23,  24,  26,  28, 103, 104, 105, 106, 108, 109, 110, 111, 112,\n",
       "        113, 133, 134, 135, 136, 137, 142, 143, 144, 145, 149, 203, 204,\n",
       "        205, 206, 207, 241, 245, 255, 258, 259, 307, 370, 371, 372, 373,\n",
       "        374, 399, 400, 401, 402, 403, 407, 409, 412], dtype=int64),)"
      ]
     },
     "execution_count": 207,
     "metadata": {},
     "output_type": "execute_result"
    }
   ],
   "source": [
    "index=np.where(df_new['Large Bags']>lb)\n",
    "index"
   ]
  },
  {
   "cell_type": "code",
   "execution_count": 208,
   "id": "6e24dfed",
   "metadata": {},
   "outputs": [
    {
     "data": {
      "text/plain": [
       "(406, 10)"
      ]
     },
     "execution_count": 208,
     "metadata": {},
     "output_type": "execute_result"
    }
   ],
   "source": [
    "df_new=df_new.drop(df_new.index[index])\n",
    "df_new.shape"
   ]
  },
  {
   "cell_type": "code",
   "execution_count": 209,
   "id": "58158460",
   "metadata": {},
   "outputs": [],
   "source": [
    "xl=2181.771074"
   ]
  },
  {
   "cell_type": "code",
   "execution_count": 210,
   "id": "afe63186",
   "metadata": {},
   "outputs": [
    {
     "data": {
      "text/plain": [
       "(array([ 54,  55,  57,  61,  62,  68,  69,  71,  72,  80,  82,  84,  87,\n",
       "         90,  93, 100, 101, 102, 103, 105, 111, 127, 129], dtype=int64),)"
      ]
     },
     "execution_count": 210,
     "metadata": {},
     "output_type": "execute_result"
    }
   ],
   "source": [
    "index=np.where(df_new['XLarge Bags']>xl)\n",
    "index"
   ]
  },
  {
   "cell_type": "code",
   "execution_count": 211,
   "id": "fb669a76",
   "metadata": {},
   "outputs": [
    {
     "data": {
      "text/plain": [
       "(383, 10)"
      ]
     },
     "execution_count": 211,
     "metadata": {},
     "output_type": "execute_result"
    }
   ],
   "source": [
    "df_new=df_new.drop(df_new.index[index])\n",
    "df_new.shape"
   ]
  },
  {
   "cell_type": "code",
   "execution_count": 212,
   "id": "98727345",
   "metadata": {},
   "outputs": [
    {
     "data": {
      "text/plain": [
       "(383, 10)"
      ]
     },
     "execution_count": 212,
     "metadata": {},
     "output_type": "execute_result"
    }
   ],
   "source": [
    "df_new.shape"
   ]
  },
  {
   "cell_type": "code",
   "execution_count": 213,
   "id": "9c2d7d12",
   "metadata": {},
   "outputs": [
    {
     "data": {
      "text/html": [
       "<div>\n",
       "<style scoped>\n",
       "    .dataframe tbody tr th:only-of-type {\n",
       "        vertical-align: middle;\n",
       "    }\n",
       "\n",
       "    .dataframe tbody tr th {\n",
       "        vertical-align: top;\n",
       "    }\n",
       "\n",
       "    .dataframe thead th {\n",
       "        text-align: right;\n",
       "    }\n",
       "</style>\n",
       "<table border=\"1\" class=\"dataframe\">\n",
       "  <thead>\n",
       "    <tr style=\"text-align: right;\">\n",
       "      <th></th>\n",
       "      <th>AveragePrice</th>\n",
       "      <th>Total Volume</th>\n",
       "      <th>4046</th>\n",
       "      <th>4225</th>\n",
       "      <th>4770</th>\n",
       "      <th>Total Bags</th>\n",
       "      <th>Small Bags</th>\n",
       "      <th>Large Bags</th>\n",
       "      <th>XLarge Bags</th>\n",
       "      <th>type</th>\n",
       "    </tr>\n",
       "  </thead>\n",
       "  <tbody>\n",
       "    <tr>\n",
       "      <th>2</th>\n",
       "      <td>0.93</td>\n",
       "      <td>118220.22</td>\n",
       "      <td>794.70</td>\n",
       "      <td>109149.67</td>\n",
       "      <td>130.50</td>\n",
       "      <td>8145.35</td>\n",
       "      <td>8042.21</td>\n",
       "      <td>103.14</td>\n",
       "      <td>0.0</td>\n",
       "      <td>0.0</td>\n",
       "    </tr>\n",
       "    <tr>\n",
       "      <th>6</th>\n",
       "      <td>0.99</td>\n",
       "      <td>83453.76</td>\n",
       "      <td>1368.92</td>\n",
       "      <td>73672.72</td>\n",
       "      <td>93.26</td>\n",
       "      <td>8318.86</td>\n",
       "      <td>8196.81</td>\n",
       "      <td>122.05</td>\n",
       "      <td>0.0</td>\n",
       "      <td>0.0</td>\n",
       "    </tr>\n",
       "    <tr>\n",
       "      <th>7</th>\n",
       "      <td>0.98</td>\n",
       "      <td>109428.33</td>\n",
       "      <td>703.75</td>\n",
       "      <td>101815.36</td>\n",
       "      <td>80.00</td>\n",
       "      <td>6829.22</td>\n",
       "      <td>6266.85</td>\n",
       "      <td>562.37</td>\n",
       "      <td>0.0</td>\n",
       "      <td>0.0</td>\n",
       "    </tr>\n",
       "    <tr>\n",
       "      <th>8</th>\n",
       "      <td>1.02</td>\n",
       "      <td>99811.42</td>\n",
       "      <td>1022.15</td>\n",
       "      <td>87315.57</td>\n",
       "      <td>85.34</td>\n",
       "      <td>11388.36</td>\n",
       "      <td>11104.53</td>\n",
       "      <td>283.83</td>\n",
       "      <td>0.0</td>\n",
       "      <td>0.0</td>\n",
       "    </tr>\n",
       "    <tr>\n",
       "      <th>9</th>\n",
       "      <td>1.07</td>\n",
       "      <td>74338.76</td>\n",
       "      <td>842.40</td>\n",
       "      <td>64757.44</td>\n",
       "      <td>113.00</td>\n",
       "      <td>8625.92</td>\n",
       "      <td>8061.47</td>\n",
       "      <td>564.45</td>\n",
       "      <td>0.0</td>\n",
       "      <td>0.0</td>\n",
       "    </tr>\n",
       "  </tbody>\n",
       "</table>\n",
       "</div>"
      ],
      "text/plain": [
       "   AveragePrice  Total Volume     4046       4225    4770  Total Bags  \\\n",
       "2          0.93     118220.22   794.70  109149.67  130.50     8145.35   \n",
       "6          0.99      83453.76  1368.92   73672.72   93.26     8318.86   \n",
       "7          0.98     109428.33   703.75  101815.36   80.00     6829.22   \n",
       "8          1.02      99811.42  1022.15   87315.57   85.34    11388.36   \n",
       "9          1.07      74338.76   842.40   64757.44  113.00     8625.92   \n",
       "\n",
       "   Small Bags  Large Bags  XLarge Bags  type  \n",
       "2     8042.21      103.14          0.0   0.0  \n",
       "6     8196.81      122.05          0.0   0.0  \n",
       "7     6266.85      562.37          0.0   0.0  \n",
       "8    11104.53      283.83          0.0   0.0  \n",
       "9     8061.47      564.45          0.0   0.0  "
      ]
     },
     "execution_count": 213,
     "metadata": {},
     "output_type": "execute_result"
    }
   ],
   "source": [
    "df_new.head()"
   ]
  },
  {
   "cell_type": "code",
   "execution_count": 214,
   "id": "9276d082",
   "metadata": {},
   "outputs": [
    {
     "data": {
      "text/plain": [
       "AveragePrice   -1.429486\n",
       "Total Volume    1.142925\n",
       "4046            1.315232\n",
       "4225            1.824723\n",
       "4770            1.137947\n",
       "Total Bags      1.262657\n",
       "Small Bags      1.623309\n",
       "Large Bags      1.389500\n",
       "XLarge Bags     2.923070\n",
       "type            0.000000\n",
       "dtype: float64"
      ]
     },
     "execution_count": 214,
     "metadata": {},
     "output_type": "execute_result"
    }
   ],
   "source": [
    "df_new.skew()"
   ]
  },
  {
   "cell_type": "code",
   "execution_count": 215,
   "id": "279d2b01",
   "metadata": {},
   "outputs": [
    {
     "data": {
      "text/html": [
       "<div>\n",
       "<style scoped>\n",
       "    .dataframe tbody tr th:only-of-type {\n",
       "        vertical-align: middle;\n",
       "    }\n",
       "\n",
       "    .dataframe tbody tr th {\n",
       "        vertical-align: top;\n",
       "    }\n",
       "\n",
       "    .dataframe thead th {\n",
       "        text-align: right;\n",
       "    }\n",
       "</style>\n",
       "<table border=\"1\" class=\"dataframe\">\n",
       "  <thead>\n",
       "    <tr style=\"text-align: right;\">\n",
       "      <th></th>\n",
       "      <th>AveragePrice</th>\n",
       "      <th>Total Volume</th>\n",
       "      <th>4046</th>\n",
       "      <th>4225</th>\n",
       "      <th>4770</th>\n",
       "      <th>Total Bags</th>\n",
       "      <th>Small Bags</th>\n",
       "      <th>Large Bags</th>\n",
       "      <th>XLarge Bags</th>\n",
       "      <th>type</th>\n",
       "    </tr>\n",
       "  </thead>\n",
       "  <tbody>\n",
       "    <tr>\n",
       "      <th>count</th>\n",
       "      <td>383.000000</td>\n",
       "      <td>3.830000e+02</td>\n",
       "      <td>383.000000</td>\n",
       "      <td>383.000000</td>\n",
       "      <td>383.000000</td>\n",
       "      <td>383.000000</td>\n",
       "      <td>383.000000</td>\n",
       "      <td>383.000000</td>\n",
       "      <td>383.000000</td>\n",
       "      <td>383.0</td>\n",
       "    </tr>\n",
       "    <tr>\n",
       "      <th>mean</th>\n",
       "      <td>0.963159</td>\n",
       "      <td>3.269417e+05</td>\n",
       "      <td>156574.247990</td>\n",
       "      <td>106992.498747</td>\n",
       "      <td>8454.982193</td>\n",
       "      <td>54919.944256</td>\n",
       "      <td>46338.538355</td>\n",
       "      <td>8405.971540</td>\n",
       "      <td>175.434360</td>\n",
       "      <td>0.0</td>\n",
       "    </tr>\n",
       "    <tr>\n",
       "      <th>std</th>\n",
       "      <td>0.100396</td>\n",
       "      <td>2.697561e+05</td>\n",
       "      <td>173770.846217</td>\n",
       "      <td>124364.636780</td>\n",
       "      <td>7928.373384</td>\n",
       "      <td>39951.502153</td>\n",
       "      <td>37914.413395</td>\n",
       "      <td>11116.602081</td>\n",
       "      <td>429.774307</td>\n",
       "      <td>0.0</td>\n",
       "    </tr>\n",
       "    <tr>\n",
       "      <th>min</th>\n",
       "      <td>0.580000</td>\n",
       "      <td>4.050736e+04</td>\n",
       "      <td>629.460000</td>\n",
       "      <td>1783.770000</td>\n",
       "      <td>0.000000</td>\n",
       "      <td>4445.900000</td>\n",
       "      <td>4445.900000</td>\n",
       "      <td>0.000000</td>\n",
       "      <td>0.000000</td>\n",
       "      <td>0.0</td>\n",
       "    </tr>\n",
       "    <tr>\n",
       "      <th>25%</th>\n",
       "      <td>0.930000</td>\n",
       "      <td>1.061832e+05</td>\n",
       "      <td>36064.865000</td>\n",
       "      <td>23939.960000</td>\n",
       "      <td>1424.290000</td>\n",
       "      <td>27559.270000</td>\n",
       "      <td>19960.140000</td>\n",
       "      <td>269.575000</td>\n",
       "      <td>0.000000</td>\n",
       "      <td>0.0</td>\n",
       "    </tr>\n",
       "    <tr>\n",
       "      <th>50%</th>\n",
       "      <td>0.990000</td>\n",
       "      <td>2.036752e+05</td>\n",
       "      <td>83017.790000</td>\n",
       "      <td>58043.780000</td>\n",
       "      <td>6037.230000</td>\n",
       "      <td>42519.030000</td>\n",
       "      <td>35745.050000</td>\n",
       "      <td>2715.030000</td>\n",
       "      <td>0.000000</td>\n",
       "      <td>0.0</td>\n",
       "    </tr>\n",
       "    <tr>\n",
       "      <th>75%</th>\n",
       "      <td>1.040000</td>\n",
       "      <td>4.817864e+05</td>\n",
       "      <td>256962.120000</td>\n",
       "      <td>151714.580000</td>\n",
       "      <td>13655.375000</td>\n",
       "      <td>74784.915000</td>\n",
       "      <td>62369.785000</td>\n",
       "      <td>13191.395000</td>\n",
       "      <td>36.580000</td>\n",
       "      <td>0.0</td>\n",
       "    </tr>\n",
       "    <tr>\n",
       "      <th>max</th>\n",
       "      <td>1.070000</td>\n",
       "      <td>1.249645e+06</td>\n",
       "      <td>645523.050000</td>\n",
       "      <td>581737.420000</td>\n",
       "      <td>46932.610000</td>\n",
       "      <td>217371.850000</td>\n",
       "      <td>211701.250000</td>\n",
       "      <td>40338.720000</td>\n",
       "      <td>2179.900000</td>\n",
       "      <td>0.0</td>\n",
       "    </tr>\n",
       "  </tbody>\n",
       "</table>\n",
       "</div>"
      ],
      "text/plain": [
       "       AveragePrice  Total Volume           4046           4225          4770  \\\n",
       "count    383.000000  3.830000e+02     383.000000     383.000000    383.000000   \n",
       "mean       0.963159  3.269417e+05  156574.247990  106992.498747   8454.982193   \n",
       "std        0.100396  2.697561e+05  173770.846217  124364.636780   7928.373384   \n",
       "min        0.580000  4.050736e+04     629.460000    1783.770000      0.000000   \n",
       "25%        0.930000  1.061832e+05   36064.865000   23939.960000   1424.290000   \n",
       "50%        0.990000  2.036752e+05   83017.790000   58043.780000   6037.230000   \n",
       "75%        1.040000  4.817864e+05  256962.120000  151714.580000  13655.375000   \n",
       "max        1.070000  1.249645e+06  645523.050000  581737.420000  46932.610000   \n",
       "\n",
       "          Total Bags     Small Bags    Large Bags  XLarge Bags   type  \n",
       "count     383.000000     383.000000    383.000000   383.000000  383.0  \n",
       "mean    54919.944256   46338.538355   8405.971540   175.434360    0.0  \n",
       "std     39951.502153   37914.413395  11116.602081   429.774307    0.0  \n",
       "min      4445.900000    4445.900000      0.000000     0.000000    0.0  \n",
       "25%     27559.270000   19960.140000    269.575000     0.000000    0.0  \n",
       "50%     42519.030000   35745.050000   2715.030000     0.000000    0.0  \n",
       "75%     74784.915000   62369.785000  13191.395000    36.580000    0.0  \n",
       "max    217371.850000  211701.250000  40338.720000  2179.900000    0.0  "
      ]
     },
     "execution_count": 215,
     "metadata": {},
     "output_type": "execute_result"
    }
   ],
   "source": [
    "df_new.describe()"
   ]
  },
  {
   "cell_type": "code",
   "execution_count": 216,
   "id": "e269eb3b",
   "metadata": {},
   "outputs": [
    {
     "data": {
      "text/html": [
       "<div>\n",
       "<style scoped>\n",
       "    .dataframe tbody tr th:only-of-type {\n",
       "        vertical-align: middle;\n",
       "    }\n",
       "\n",
       "    .dataframe tbody tr th {\n",
       "        vertical-align: top;\n",
       "    }\n",
       "\n",
       "    .dataframe thead th {\n",
       "        text-align: right;\n",
       "    }\n",
       "</style>\n",
       "<table border=\"1\" class=\"dataframe\">\n",
       "  <thead>\n",
       "    <tr style=\"text-align: right;\">\n",
       "      <th></th>\n",
       "      <th>AveragePrice</th>\n",
       "      <th>Total Volume</th>\n",
       "      <th>4046</th>\n",
       "      <th>4225</th>\n",
       "      <th>4770</th>\n",
       "      <th>Total Bags</th>\n",
       "      <th>Small Bags</th>\n",
       "      <th>Large Bags</th>\n",
       "      <th>XLarge Bags</th>\n",
       "    </tr>\n",
       "  </thead>\n",
       "  <tbody>\n",
       "    <tr>\n",
       "      <th>2</th>\n",
       "      <td>0.93</td>\n",
       "      <td>118220.22</td>\n",
       "      <td>794.70</td>\n",
       "      <td>109149.67</td>\n",
       "      <td>130.50</td>\n",
       "      <td>8145.35</td>\n",
       "      <td>8042.21</td>\n",
       "      <td>103.14</td>\n",
       "      <td>0.0</td>\n",
       "    </tr>\n",
       "    <tr>\n",
       "      <th>6</th>\n",
       "      <td>0.99</td>\n",
       "      <td>83453.76</td>\n",
       "      <td>1368.92</td>\n",
       "      <td>73672.72</td>\n",
       "      <td>93.26</td>\n",
       "      <td>8318.86</td>\n",
       "      <td>8196.81</td>\n",
       "      <td>122.05</td>\n",
       "      <td>0.0</td>\n",
       "    </tr>\n",
       "    <tr>\n",
       "      <th>7</th>\n",
       "      <td>0.98</td>\n",
       "      <td>109428.33</td>\n",
       "      <td>703.75</td>\n",
       "      <td>101815.36</td>\n",
       "      <td>80.00</td>\n",
       "      <td>6829.22</td>\n",
       "      <td>6266.85</td>\n",
       "      <td>562.37</td>\n",
       "      <td>0.0</td>\n",
       "    </tr>\n",
       "    <tr>\n",
       "      <th>8</th>\n",
       "      <td>1.02</td>\n",
       "      <td>99811.42</td>\n",
       "      <td>1022.15</td>\n",
       "      <td>87315.57</td>\n",
       "      <td>85.34</td>\n",
       "      <td>11388.36</td>\n",
       "      <td>11104.53</td>\n",
       "      <td>283.83</td>\n",
       "      <td>0.0</td>\n",
       "    </tr>\n",
       "    <tr>\n",
       "      <th>9</th>\n",
       "      <td>1.07</td>\n",
       "      <td>74338.76</td>\n",
       "      <td>842.40</td>\n",
       "      <td>64757.44</td>\n",
       "      <td>113.00</td>\n",
       "      <td>8625.92</td>\n",
       "      <td>8061.47</td>\n",
       "      <td>564.45</td>\n",
       "      <td>0.0</td>\n",
       "    </tr>\n",
       "    <tr>\n",
       "      <th>...</th>\n",
       "      <td>...</td>\n",
       "      <td>...</td>\n",
       "      <td>...</td>\n",
       "      <td>...</td>\n",
       "      <td>...</td>\n",
       "      <td>...</td>\n",
       "      <td>...</td>\n",
       "      <td>...</td>\n",
       "      <td>...</td>\n",
       "    </tr>\n",
       "    <tr>\n",
       "      <th>1403</th>\n",
       "      <td>1.03</td>\n",
       "      <td>651616.91</td>\n",
       "      <td>6037.25</td>\n",
       "      <td>501280.47</td>\n",
       "      <td>25252.35</td>\n",
       "      <td>119046.84</td>\n",
       "      <td>118219.26</td>\n",
       "      <td>827.58</td>\n",
       "      <td>0.0</td>\n",
       "    </tr>\n",
       "    <tr>\n",
       "      <th>1404</th>\n",
       "      <td>1.05</td>\n",
       "      <td>670376.77</td>\n",
       "      <td>3107.96</td>\n",
       "      <td>482030.79</td>\n",
       "      <td>26052.91</td>\n",
       "      <td>159185.11</td>\n",
       "      <td>158806.43</td>\n",
       "      <td>378.68</td>\n",
       "      <td>0.0</td>\n",
       "    </tr>\n",
       "    <tr>\n",
       "      <th>1405</th>\n",
       "      <td>1.02</td>\n",
       "      <td>665217.66</td>\n",
       "      <td>4392.86</td>\n",
       "      <td>486767.87</td>\n",
       "      <td>32505.74</td>\n",
       "      <td>141551.19</td>\n",
       "      <td>141307.39</td>\n",
       "      <td>243.80</td>\n",
       "      <td>0.0</td>\n",
       "    </tr>\n",
       "    <tr>\n",
       "      <th>1407</th>\n",
       "      <td>1.01</td>\n",
       "      <td>610622.03</td>\n",
       "      <td>5112.51</td>\n",
       "      <td>492477.86</td>\n",
       "      <td>21182.52</td>\n",
       "      <td>91849.14</td>\n",
       "      <td>91579.91</td>\n",
       "      <td>269.23</td>\n",
       "      <td>0.0</td>\n",
       "    </tr>\n",
       "    <tr>\n",
       "      <th>1436</th>\n",
       "      <td>1.04</td>\n",
       "      <td>154802.00</td>\n",
       "      <td>1164.29</td>\n",
       "      <td>72025.38</td>\n",
       "      <td>18.55</td>\n",
       "      <td>81593.78</td>\n",
       "      <td>81542.67</td>\n",
       "      <td>51.11</td>\n",
       "      <td>0.0</td>\n",
       "    </tr>\n",
       "  </tbody>\n",
       "</table>\n",
       "<p>383 rows × 9 columns</p>\n",
       "</div>"
      ],
      "text/plain": [
       "      AveragePrice  Total Volume     4046       4225      4770  Total Bags  \\\n",
       "2             0.93     118220.22   794.70  109149.67    130.50     8145.35   \n",
       "6             0.99      83453.76  1368.92   73672.72     93.26     8318.86   \n",
       "7             0.98     109428.33   703.75  101815.36     80.00     6829.22   \n",
       "8             1.02      99811.42  1022.15   87315.57     85.34    11388.36   \n",
       "9             1.07      74338.76   842.40   64757.44    113.00     8625.92   \n",
       "...            ...           ...      ...        ...       ...         ...   \n",
       "1403          1.03     651616.91  6037.25  501280.47  25252.35   119046.84   \n",
       "1404          1.05     670376.77  3107.96  482030.79  26052.91   159185.11   \n",
       "1405          1.02     665217.66  4392.86  486767.87  32505.74   141551.19   \n",
       "1407          1.01     610622.03  5112.51  492477.86  21182.52    91849.14   \n",
       "1436          1.04     154802.00  1164.29   72025.38     18.55    81593.78   \n",
       "\n",
       "      Small Bags  Large Bags  XLarge Bags  \n",
       "2        8042.21      103.14          0.0  \n",
       "6        8196.81      122.05          0.0  \n",
       "7        6266.85      562.37          0.0  \n",
       "8       11104.53      283.83          0.0  \n",
       "9        8061.47      564.45          0.0  \n",
       "...          ...         ...          ...  \n",
       "1403   118219.26      827.58          0.0  \n",
       "1404   158806.43      378.68          0.0  \n",
       "1405   141307.39      243.80          0.0  \n",
       "1407    91579.91      269.23          0.0  \n",
       "1436    81542.67       51.11          0.0  \n",
       "\n",
       "[383 rows x 9 columns]"
      ]
     },
     "execution_count": 216,
     "metadata": {},
     "output_type": "execute_result"
    }
   ],
   "source": [
    "df_new.drop(columns=['type'])"
   ]
  },
  {
   "cell_type": "code",
   "execution_count": 217,
   "id": "ac26d5b4",
   "metadata": {},
   "outputs": [],
   "source": [
    "## removing skewness"
   ]
  },
  {
   "cell_type": "code",
   "execution_count": 218,
   "id": "baf49e5a",
   "metadata": {},
   "outputs": [],
   "source": [
    "from sklearn.preprocessing import PowerTransformer\n",
    "pt=PowerTransformer()"
   ]
  },
  {
   "cell_type": "code",
   "execution_count": 219,
   "id": "e63c408d",
   "metadata": {},
   "outputs": [],
   "source": [
    "for i in cont:\n",
    "    if np.abs(df_new[i].skew())>0.5:\n",
    "        df_new[i]=pt.fit_transform(df_new[i].values.reshape(-1,1))"
   ]
  },
  {
   "cell_type": "code",
   "execution_count": 220,
   "id": "ffda84e4",
   "metadata": {},
   "outputs": [
    {
     "data": {
      "image/png": "[encoded data removed]",
      "text/plain": [
       "<Figure size 1080x1800 with 10 Axes>"
      ]
     },
     "metadata": {
      "needs_background": "light"
     },
     "output_type": "display_data"
    }
   ],
   "source": []
  },
  {
   "cell_type": "code",
   "execution_count": 221,
   "id": "9cb44fec",
   "metadata": {},
   "outputs": [
    {
     "data": {
      "text/plain": [
       "AveragePrice   -1.429486\n",
       "Total Volume    0.000000\n",
       "4046           -0.144645\n",
       "4225           -0.036839\n",
       "4770           -0.246892\n",
       "Total Bags     -0.021295\n",
       "Small Bags     -0.014057\n",
       "Large Bags     -0.227301\n",
       "XLarge Bags     0.588133\n",
       "type            0.000000\n",
       "dtype: float64"
      ]
     },
     "execution_count": 221,
     "metadata": {},
     "output_type": "execute_result"
    }
   ],
   "source": [
    "df_new.skew()"
   ]
  },
  {
   "cell_type": "code",
   "execution_count": 222,
   "id": "3c70f968",
   "metadata": {},
   "outputs": [],
   "source": [
    "x=df_new.copy()\n",
    "x.drop('AveragePrice',axis=1,inplace=True)\n",
    "\n",
    "y=df_new['AveragePrice']"
   ]
  },
  {
   "cell_type": "code",
   "execution_count": 223,
   "id": "e4e73e47",
   "metadata": {},
   "outputs": [],
   "source": [
    "## scaling the data"
   ]
  },
  {
   "cell_type": "code",
   "execution_count": 224,
   "id": "c840d55b",
   "metadata": {},
   "outputs": [],
   "source": [
    "#Scaling the data using min max scaler\n",
    "from sklearn.preprocessing import MinMaxScaler\n",
    "scaler=MinMaxScaler()"
   ]
  },
  {
   "cell_type": "code",
   "execution_count": 225,
   "id": "5b0bdae4",
   "metadata": {},
   "outputs": [],
   "source": [
    "xd=scaler.fit_transform(x)\n",
    "x=pd.DataFrame(xd,columns=x.columns)"
   ]
  },
  {
   "cell_type": "code",
   "execution_count": 226,
   "id": "96b05aa4",
   "metadata": {},
   "outputs": [],
   "source": [
    "## modelling phase"
   ]
  },
  {
   "cell_type": "code",
   "execution_count": 227,
   "id": "b6daba2f",
   "metadata": {},
   "outputs": [],
   "source": [
    "from sklearn.model_selection import train_test_split,cross_val_score"
   ]
  },
  {
   "cell_type": "code",
   "execution_count": 228,
   "id": "bd8ca630",
   "metadata": {},
   "outputs": [],
   "source": [
    "#importing models\n",
    "from sklearn.neighbors import KNeighborsRegressor\n",
    "from sklearn.linear_model import LinearRegression,Lasso,Ridge,ElasticNet\n",
    "from sklearn.svm import SVR\n",
    "from sklearn.tree import DecisionTreeRegressor\n",
    "from sklearn.ensemble import RandomForestRegressor,AdaBoostRegressor,GradientBoostingRegressor"
   ]
  },
  {
   "cell_type": "code",
   "execution_count": 1,
   "id": "c8747431",
   "metadata": {},
   "outputs": [],
   "source": [
    "from sklearn.metrics import r2_score,mean_absolute_error,mean_squared_error"
   ]
  },
  {
   "cell_type": "code",
   "execution_count": 2,
   "id": "fe460925",
   "metadata": {},
   "outputs": [],
   "source": [
    "#Choosing the best random state using Logistic regression\n",
    "def randomstate(a,b):\n",
    "    maxx=1000\n",
    "    for state in range(1,201):\n",
    "        xtrain,xtest,ytrain,ytest=train_test_split(a,b,test_size=0.25,random_state=state)\n",
    "        model=LinearRegression()\n",
    "        model.fit(xtrain,ytrain)\n",
    "        p=model.predict(xtest)\n",
    "        mse=mean_squared_error(p,ytest)\n",
    "        if maxx>mse:\n",
    "            maxx=mse\n",
    "            j=state\n",
    "    return j"
   ]
  },
  {
   "cell_type": "code",
   "execution_count": 3,
   "id": "d9524451",
   "metadata": {},
   "outputs": [
    {
     "ename": "NameError",
     "evalue": "name 'KNeighborsRegressor' is not defined",
     "output_type": "error",
     "traceback": [
      "\u001b[1;31m---------------------------------------------------------------------------\u001b[0m",
      "\u001b[1;31mNameError\u001b[0m                                 Traceback (most recent call last)",
      "\u001b[1;32m<ipython-input-3-d97ce2f4def0>\u001b[0m in \u001b[0;36m<module>\u001b[1;34m\u001b[0m\n\u001b[0;32m      1\u001b[0m \u001b[1;31m#Creating list of models and another list mapped to their names\u001b[0m\u001b[1;33m\u001b[0m\u001b[1;33m\u001b[0m\u001b[1;33m\u001b[0m\u001b[0m\n\u001b[1;32m----> 2\u001b[1;33m models=[KNeighborsRegressor(),SVR(),LinearRegression(),Lasso(),Ridge(),ElasticNet(),DecisionTreeRegressor(),\n\u001b[0m\u001b[0;32m      3\u001b[0m        RandomForestRegressor(),AdaBoostRegressor(),GradientBoostingRegressor()]\n\u001b[0;32m      4\u001b[0m \u001b[1;33m\u001b[0m\u001b[0m\n\u001b[0;32m      5\u001b[0m names=['KNeighborsRegressor','SVR','LinearRegression','Lasso','Ridge','ElasticNet','DecisionTreeRegressor',\n",
      "\u001b[1;31mNameError\u001b[0m: name 'KNeighborsRegressor' is not defined"
     ]
    }
   ],
   "source": [
    "#Creating list of models and another list mapped to their names\n",
    "models=[KNeighborsRegressor(),SVR(),LinearRegression(),Lasso(),Ridge(),ElasticNet(),DecisionTreeRegressor(),\n",
    "       RandomForestRegressor(),AdaBoostRegressor(),GradientBoostingRegressor()]\n",
    "\n",
    "names=['KNeighborsRegressor','SVR','LinearRegression','Lasso','Ridge','ElasticNet','DecisionTreeRegressor',\n",
    "       'RandomForestRegressor','AdaBoostRegressor','GradientBoostingRegressor']"
   ]
  },
  {
   "cell_type": "code",
   "execution_count": 259,
   "id": "43585702",
   "metadata": {},
   "outputs": [],
   "source": [
    "def createmodels(model_list,independent,dependent,n):\n",
    "    xtrain,xtest,ytrain,ytest=train_test_split(independent,dependent,test_size=0.25,random_state=randomstate(independent,dependent))\n",
    "    name=[]\n",
    "    meanabs=[]\n",
    "    meansqd=[]\n",
    "    rootmeansqd=[]\n",
    "    r2=[]\n",
    "    mcv=[]\n",
    "    \n",
    "    #Creating models\n",
    "    for i,model in enumerate(model_list):\n",
    "        model.fit(xtrain,ytrain)\n",
    "        p=model.predict(xtest)\n",
    "        score=cross_val_score(model,independent,dependent,cv=10)\n",
    "        \n",
    "        #Calculating scores of the model and appending them to a list\n",
    "        name.append(n[i])\n",
    "        meanabs.append(np.round(mean_absolute_error(p,ytest),4))\n",
    "        meansqd.append(np.round(mean_squared_error(p,ytest),4))\n",
    "        rootmeansqd.append(np.round(np.sqrt(mean_squared_error(p,ytest)),4))\n",
    "        r2.append(np.round(r2_score(p,ytest),2))\n",
    "        mcv.append(np.round(np.mean(score),4))\n",
    "    \n",
    "    #Creating Dataframe\n",
    "    data=pd.DataFrame()\n",
    "    data['Model']=name\n",
    "    data['Mean Absolute Error']=meanabs\n",
    "    data['Mean Squared Error']=meansqd\n",
    "    data['Root Mean Squared Error']=rootmeansqd\n",
    "    data['R2 Score']=r2\n",
    "    data['Mean of Cross validaton Score']=mcv\n",
    "    data.set_index('Model',inplace = True)\n",
    "    return data"
   ]
  },
  {
   "cell_type": "code",
   "execution_count": 260,
   "id": "d36b07fe",
   "metadata": {},
   "outputs": [
    {
     "data": {
      "text/html": [
       "<div>\n",
       "<style scoped>\n",
       "    .dataframe tbody tr th:only-of-type {\n",
       "        vertical-align: middle;\n",
       "    }\n",
       "\n",
       "    .dataframe tbody tr th {\n",
       "        vertical-align: top;\n",
       "    }\n",
       "\n",
       "    .dataframe thead th {\n",
       "        text-align: right;\n",
       "    }\n",
       "</style>\n",
       "<table border=\"1\" class=\"dataframe\">\n",
       "  <thead>\n",
       "    <tr style=\"text-align: right;\">\n",
       "      <th></th>\n",
       "      <th>Mean Absolute Error</th>\n",
       "      <th>Mean Squared Error</th>\n",
       "      <th>Root Mean Squared Error</th>\n",
       "      <th>R2 Score</th>\n",
       "      <th>Mean of Cross validaton Score</th>\n",
       "    </tr>\n",
       "    <tr>\n",
       "      <th>Model</th>\n",
       "      <th></th>\n",
       "      <th></th>\n",
       "      <th></th>\n",
       "      <th></th>\n",
       "      <th></th>\n",
       "    </tr>\n",
       "  </thead>\n",
       "  <tbody>\n",
       "    <tr>\n",
       "      <th>KNeighborsRegressor</th>\n",
       "      <td>0.0412</td>\n",
       "      <td>0.0028</td>\n",
       "      <td>0.0533</td>\n",
       "      <td>2.700000e-01</td>\n",
       "      <td>-0.1711</td>\n",
       "    </tr>\n",
       "    <tr>\n",
       "      <th>SVR</th>\n",
       "      <td>0.0479</td>\n",
       "      <td>0.0035</td>\n",
       "      <td>0.0587</td>\n",
       "      <td>0.000000e+00</td>\n",
       "      <td>-0.3945</td>\n",
       "    </tr>\n",
       "    <tr>\n",
       "      <th>LinearRegression</th>\n",
       "      <td>0.0545</td>\n",
       "      <td>0.0047</td>\n",
       "      <td>0.0686</td>\n",
       "      <td>-1.110000e+00</td>\n",
       "      <td>-1.3289</td>\n",
       "    </tr>\n",
       "    <tr>\n",
       "      <th>Lasso</th>\n",
       "      <td>0.0588</td>\n",
       "      <td>0.0051</td>\n",
       "      <td>0.0716</td>\n",
       "      <td>-4.616594e+28</td>\n",
       "      <td>-0.6817</td>\n",
       "    </tr>\n",
       "    <tr>\n",
       "      <th>Ridge</th>\n",
       "      <td>0.0544</td>\n",
       "      <td>0.0046</td>\n",
       "      <td>0.0677</td>\n",
       "      <td>-1.280000e+00</td>\n",
       "      <td>-1.0222</td>\n",
       "    </tr>\n",
       "    <tr>\n",
       "      <th>ElasticNet</th>\n",
       "      <td>0.0588</td>\n",
       "      <td>0.0051</td>\n",
       "      <td>0.0716</td>\n",
       "      <td>-4.616594e+28</td>\n",
       "      <td>-0.6817</td>\n",
       "    </tr>\n",
       "    <tr>\n",
       "      <th>DecisionTreeRegressor</th>\n",
       "      <td>0.0413</td>\n",
       "      <td>0.0027</td>\n",
       "      <td>0.0521</td>\n",
       "      <td>4.300000e-01</td>\n",
       "      <td>-0.7135</td>\n",
       "    </tr>\n",
       "    <tr>\n",
       "      <th>RandomForestRegressor</th>\n",
       "      <td>0.0349</td>\n",
       "      <td>0.0020</td>\n",
       "      <td>0.0451</td>\n",
       "      <td>4.900000e-01</td>\n",
       "      <td>-0.1210</td>\n",
       "    </tr>\n",
       "    <tr>\n",
       "      <th>AdaBoostRegressor</th>\n",
       "      <td>0.0409</td>\n",
       "      <td>0.0027</td>\n",
       "      <td>0.0522</td>\n",
       "      <td>5.000000e-02</td>\n",
       "      <td>-0.1823</td>\n",
       "    </tr>\n",
       "    <tr>\n",
       "      <th>GradientBoostingRegressor</th>\n",
       "      <td>0.0382</td>\n",
       "      <td>0.0024</td>\n",
       "      <td>0.0489</td>\n",
       "      <td>4.600000e-01</td>\n",
       "      <td>-0.1124</td>\n",
       "    </tr>\n",
       "  </tbody>\n",
       "</table>\n",
       "</div>"
      ],
      "text/plain": [
       "                           Mean Absolute Error  Mean Squared Error  \\\n",
       "Model                                                                \n",
       "KNeighborsRegressor                     0.0412              0.0028   \n",
       "SVR                                     0.0479              0.0035   \n",
       "LinearRegression                        0.0545              0.0047   \n",
       "Lasso                                   0.0588              0.0051   \n",
       "Ridge                                   0.0544              0.0046   \n",
       "ElasticNet                              0.0588              0.0051   \n",
       "DecisionTreeRegressor                   0.0413              0.0027   \n",
       "RandomForestRegressor                   0.0349              0.0020   \n",
       "AdaBoostRegressor                       0.0409              0.0027   \n",
       "GradientBoostingRegressor               0.0382              0.0024   \n",
       "\n",
       "                           Root Mean Squared Error      R2 Score  \\\n",
       "Model                                                              \n",
       "KNeighborsRegressor                         0.0533  2.700000e-01   \n",
       "SVR                                         0.0587  0.000000e+00   \n",
       "LinearRegression                            0.0686 -1.110000e+00   \n",
       "Lasso                                       0.0716 -4.616594e+28   \n",
       "Ridge                                       0.0677 -1.280000e+00   \n",
       "ElasticNet                                  0.0716 -4.616594e+28   \n",
       "DecisionTreeRegressor                       0.0521  4.300000e-01   \n",
       "RandomForestRegressor                       0.0451  4.900000e-01   \n",
       "AdaBoostRegressor                           0.0522  5.000000e-02   \n",
       "GradientBoostingRegressor                   0.0489  4.600000e-01   \n",
       "\n",
       "                           Mean of Cross validaton Score  \n",
       "Model                                                     \n",
       "KNeighborsRegressor                              -0.1711  \n",
       "SVR                                              -0.3945  \n",
       "LinearRegression                                 -1.3289  \n",
       "Lasso                                            -0.6817  \n",
       "Ridge                                            -1.0222  \n",
       "ElasticNet                                       -0.6817  \n",
       "DecisionTreeRegressor                            -0.7135  \n",
       "RandomForestRegressor                            -0.1210  \n",
       "AdaBoostRegressor                                -0.1823  \n",
       "GradientBoostingRegressor                        -0.1124  "
      ]
     },
     "execution_count": 260,
     "metadata": {},
     "output_type": "execute_result"
    }
   ],
   "source": [
    "createmodels(models,x,y,names)"
   ]
  },
  {
   "cell_type": "code",
   "execution_count": 261,
   "id": "b9c4c808",
   "metadata": {},
   "outputs": [],
   "source": [
    "## removing the multicollinearity "
   ]
  },
  {
   "cell_type": "code",
   "execution_count": 262,
   "id": "56ffda4a",
   "metadata": {},
   "outputs": [],
   "source": [
    "from sklearn.model_selection import GridSearchCV"
   ]
  },
  {
   "cell_type": "code",
   "execution_count": 263,
   "id": "0a0e837e",
   "metadata": {},
   "outputs": [
    {
     "name": "stdout",
     "output_type": "stream",
     "text": [
      "{'alpha': 0.1}\n"
     ]
    }
   ],
   "source": [
    "param_grid={'alpha':[1e-15,1e-10,1e-8,1e-5,1e-3,0.1,1,5,10,15,20,30,35,45,50,55,65,100,110,150,1000]}\n",
    "m1=GridSearchCV(Lasso(),param_grid,scoring='neg_mean_squared_error',cv=10)\n",
    "m1.fit(x,y)\n",
    "print(m1.best_params_)"
   ]
  },
  {
   "cell_type": "code",
   "execution_count": 264,
   "id": "a9026117",
   "metadata": {},
   "outputs": [
    {
     "data": {
      "text/plain": [
       "Lasso(alpha=0.1)"
      ]
     },
     "execution_count": 264,
     "metadata": {},
     "output_type": "execute_result"
    }
   ],
   "source": [
    "m1=Lasso(alpha=0.1)\n",
    "m1.fit(x,y)"
   ]
  },
  {
   "cell_type": "code",
   "execution_count": 265,
   "id": "7585034a",
   "metadata": {},
   "outputs": [
    {
     "data": {
      "text/plain": [
       "array([0., 0., 0., 0., 0., 0., 0., 0., 0.])"
      ]
     },
     "execution_count": 265,
     "metadata": {},
     "output_type": "execute_result"
    }
   ],
   "source": [
    "importance = np.abs(m1.coef_)\n",
    "importance"
   ]
  },
  {
   "cell_type": "code",
   "execution_count": 266,
   "id": "72056499",
   "metadata": {},
   "outputs": [
    {
     "data": {
      "text/html": [
       "<div>\n",
       "<style scoped>\n",
       "    .dataframe tbody tr th:only-of-type {\n",
       "        vertical-align: middle;\n",
       "    }\n",
       "\n",
       "    .dataframe tbody tr th {\n",
       "        vertical-align: top;\n",
       "    }\n",
       "\n",
       "    .dataframe thead th {\n",
       "        text-align: right;\n",
       "    }\n",
       "</style>\n",
       "<table border=\"1\" class=\"dataframe\">\n",
       "  <thead>\n",
       "    <tr style=\"text-align: right;\">\n",
       "      <th></th>\n",
       "      <th>Features</th>\n",
       "      <th>Coefficients</th>\n",
       "    </tr>\n",
       "  </thead>\n",
       "  <tbody>\n",
       "    <tr>\n",
       "      <th>0</th>\n",
       "      <td>Total Volume</td>\n",
       "      <td>0.0</td>\n",
       "    </tr>\n",
       "    <tr>\n",
       "      <th>1</th>\n",
       "      <td>4046</td>\n",
       "      <td>0.0</td>\n",
       "    </tr>\n",
       "    <tr>\n",
       "      <th>2</th>\n",
       "      <td>4225</td>\n",
       "      <td>0.0</td>\n",
       "    </tr>\n",
       "    <tr>\n",
       "      <th>3</th>\n",
       "      <td>4770</td>\n",
       "      <td>0.0</td>\n",
       "    </tr>\n",
       "    <tr>\n",
       "      <th>4</th>\n",
       "      <td>Total Bags</td>\n",
       "      <td>0.0</td>\n",
       "    </tr>\n",
       "    <tr>\n",
       "      <th>5</th>\n",
       "      <td>Small Bags</td>\n",
       "      <td>0.0</td>\n",
       "    </tr>\n",
       "    <tr>\n",
       "      <th>6</th>\n",
       "      <td>Large Bags</td>\n",
       "      <td>0.0</td>\n",
       "    </tr>\n",
       "    <tr>\n",
       "      <th>7</th>\n",
       "      <td>XLarge Bags</td>\n",
       "      <td>0.0</td>\n",
       "    </tr>\n",
       "    <tr>\n",
       "      <th>8</th>\n",
       "      <td>type</td>\n",
       "      <td>0.0</td>\n",
       "    </tr>\n",
       "  </tbody>\n",
       "</table>\n",
       "</div>"
      ],
      "text/plain": [
       "       Features  Coefficients\n",
       "0  Total Volume           0.0\n",
       "1          4046           0.0\n",
       "2          4225           0.0\n",
       "3          4770           0.0\n",
       "4    Total Bags           0.0\n",
       "5    Small Bags           0.0\n",
       "6    Large Bags           0.0\n",
       "7   XLarge Bags           0.0\n",
       "8          type           0.0"
      ]
     },
     "execution_count": 266,
     "metadata": {},
     "output_type": "execute_result"
    }
   ],
   "source": [
    "dfcolumns = pd.DataFrame(x.columns)\n",
    "dfimp=pd.DataFrame(importance)\n",
    "featureScores = pd.concat([dfcolumns,dfimp],axis=1)\n",
    "featureScores.columns = ['Features','Coefficients']  #naming the dataframe columns\n",
    "featureScores"
   ]
  },
  {
   "cell_type": "code",
   "execution_count": 267,
   "id": "ece2c90b",
   "metadata": {},
   "outputs": [
    {
     "data": {
      "text/plain": [
       "-4.616594e+28"
      ]
     },
     "execution_count": 267,
     "metadata": {},
     "output_type": "execute_result"
    }
   ],
   "source": [
    "a=-4.616594e+28\n",
    "a"
   ]
  },
  {
   "cell_type": "code",
   "execution_count": 268,
   "id": "3d08ee6c",
   "metadata": {},
   "outputs": [],
   "source": [
    "## looks like of all the models randomforest and gradientboosting works well"
   ]
  },
  {
   "cell_type": "code",
   "execution_count": 269,
   "id": "d38e866b",
   "metadata": {},
   "outputs": [],
   "source": [
    "## hyperparameter tuning by randomizedsearch"
   ]
  },
  {
   "cell_type": "code",
   "execution_count": 270,
   "id": "c1cd13ac",
   "metadata": {},
   "outputs": [],
   "source": [
    "from sklearn.model_selection import RandomizedSearchCV"
   ]
  },
  {
   "cell_type": "code",
   "execution_count": 271,
   "id": "549f30dc",
   "metadata": {},
   "outputs": [],
   "source": [
    "params={'n_estimators':[100, 300, 500, 700],\n",
    "        'min_samples_split':[1,2,3,4],\n",
    "        'min_samples_leaf':[1,2,3,4],\n",
    "            'max_depth':[None,1,2,3,4,5,6,7,8]}"
   ]
  },
  {
   "cell_type": "code",
   "execution_count": 272,
   "id": "66a0cb02",
   "metadata": {},
   "outputs": [
    {
     "data": {
      "text/plain": [
       "RandomizedSearchCV(cv=10, estimator=RandomForestRegressor(),\n",
       "                   param_distributions={'max_depth': [None, 1, 2, 3, 4, 5, 6, 7,\n",
       "                                                      8],\n",
       "                                        'min_samples_leaf': [1, 2, 3, 4],\n",
       "                                        'min_samples_split': [1, 2, 3, 4],\n",
       "                                        'n_estimators': [100, 300, 500, 700]})"
      ]
     },
     "execution_count": 272,
     "metadata": {},
     "output_type": "execute_result"
    }
   ],
   "source": [
    "g=RandomizedSearchCV(RandomForestRegressor(),params,cv=10)\n",
    "g.fit(xtrain,ytrain)"
   ]
  },
  {
   "cell_type": "code",
   "execution_count": 273,
   "id": "3b8b18f9",
   "metadata": {},
   "outputs": [
    {
     "name": "stdout",
     "output_type": "stream",
     "text": [
      "RandomForestRegressor(max_depth=8, min_samples_leaf=3, min_samples_split=3,\n",
      "                      n_estimators=500)\n",
      "{'n_estimators': 500, 'min_samples_split': 3, 'min_samples_leaf': 3, 'max_depth': 8}\n",
      "0.580680049438569\n"
     ]
    }
   ],
   "source": [
    "print(g.best_estimator_)\n",
    "print(g.best_params_)\n",
    "print(g.best_score_)"
   ]
  },
  {
   "cell_type": "code",
   "execution_count": 274,
   "id": "e02ca580",
   "metadata": {},
   "outputs": [],
   "source": [
    "m=RandomForestRegressor(max_depth=8, min_samples_leaf=3, min_samples_split=3,n_estimators=500)\n",
    "m.fit(xtrain,ytrain)\n",
    "p=m.predict(xtest)\n",
    "score=cross_val_score(m,x,y,cv=10)"
   ]
  },
  {
   "cell_type": "code",
   "execution_count": 276,
   "id": "70fa396d",
   "metadata": {},
   "outputs": [
    {
     "name": "stdout",
     "output_type": "stream",
     "text": [
      "Mean Absolute Error is 0.04\n",
      "Mean Squared Error is 0.0027\n",
      "Root Mean Squared Error is 0.0516\n",
      "R2 Score is 36.449999999999996\n",
      "Mean of cross validaton Score is -16.2865\n"
     ]
    }
   ],
   "source": [
    "print('Mean Absolute Error is',np.round(mean_absolute_error(p,ytest),4))\n",
    "print('Mean Squared Error is',np.round(mean_squared_error(p,ytest),4))\n",
    "print('Root Mean Squared Error is',np.round(np.sqrt(mean_squared_error(p,ytest)),4))\n",
    "print('R2 Score is',np.round(r2_score(p,ytest),4)*100)\n",
    "print('Mean of cross validaton Score is',np.round(np.mean(score)*100,4))"
   ]
  },
  {
   "cell_type": "code",
   "execution_count": 277,
   "id": "aad07c03",
   "metadata": {},
   "outputs": [],
   "source": [
    "## gradient boosting"
   ]
  },
  {
   "cell_type": "code",
   "execution_count": 278,
   "id": "62b362a4",
   "metadata": {},
   "outputs": [],
   "source": [
    "params={'n_estimators':[100, 300, 500, 700],\n",
    "        'min_samples_split':[1,2,3,4],\n",
    "        'min_samples_leaf':[1,2,3,4],\n",
    "            'max_depth':[None,1,2,3,4,5,6,7,8],'alpha':[0.01,0.1]}"
   ]
  },
  {
   "cell_type": "code",
   "execution_count": 279,
   "id": "b58386ed",
   "metadata": {},
   "outputs": [
    {
     "data": {
      "text/plain": [
       "RandomizedSearchCV(cv=10, estimator=GradientBoostingRegressor(),\n",
       "                   param_distributions={'alpha': [0.01, 0.1],\n",
       "                                        'max_depth': [None, 1, 2, 3, 4, 5, 6, 7,\n",
       "                                                      8],\n",
       "                                        'min_samples_leaf': [1, 2, 3, 4],\n",
       "                                        'min_samples_split': [1, 2, 3, 4],\n",
       "                                        'n_estimators': [100, 300, 500, 700]})"
      ]
     },
     "execution_count": 279,
     "metadata": {},
     "output_type": "execute_result"
    }
   ],
   "source": [
    "g=RandomizedSearchCV(GradientBoostingRegressor(),params,cv=10)\n",
    "g.fit(xtrain,ytrain)"
   ]
  },
  {
   "cell_type": "code",
   "execution_count": 253,
   "id": "b684ffbb",
   "metadata": {},
   "outputs": [
    {
     "name": "stdout",
     "output_type": "stream",
     "text": [
      "GradientBoostingRegressor(alpha=0.01, max_depth=7, min_samples_leaf=4,\n",
      "                          min_samples_split=4, n_estimators=300)\n",
      "{'n_estimators': 300, 'min_samples_split': 4, 'min_samples_leaf': 4, 'max_depth': 7, 'alpha': 0.01}\n",
      "0.5892285614061371\n"
     ]
    }
   ],
   "source": [
    "print(g.best_estimator_)\n",
    "print(g.best_params_)\n",
    "print(g.best_score_)"
   ]
  },
  {
   "cell_type": "code",
   "execution_count": 254,
   "id": "07e9b0c4",
   "metadata": {},
   "outputs": [],
   "source": [
    "m=GradientBoostingRegressor(max_depth=7, min_samples_leaf=4, min_samples_split=4,n_estimators=300,alpha=0.01)\n",
    "m.fit(xtrain,ytrain)\n",
    "p=m.predict(xtest)\n",
    "score=cross_val_score(m,x,y,cv=10)"
   ]
  },
  {
   "cell_type": "code",
   "execution_count": 255,
   "id": "93944356",
   "metadata": {},
   "outputs": [
    {
     "name": "stdout",
     "output_type": "stream",
     "text": [
      "Mean Absolute Error is 0.0379\n",
      "Mean Squared Error is 0.0023\n",
      "Root Mean Squared Error is 0.0479\n",
      "R2 Score is 50.019999999999996\n",
      "Mean of cross validaton Score is -26.907\n"
     ]
    }
   ],
   "source": [
    "print('Mean Absolute Error is',np.round(mean_absolute_error(p,ytest),4))\n",
    "print('Mean Squared Error is',np.round(mean_squared_error(p,ytest),4))\n",
    "print('Root Mean Squared Error is',np.round(np.sqrt(mean_squared_error(p,ytest)),4))\n",
    "print('R2 Score is',np.round(r2_score(p,ytest),4)*100)\n",
    "print('Mean of cross validaton Score is',np.round(np.mean(score)*100,4))"
   ]
  },
  {
   "cell_type": "code",
   "execution_count": 280,
   "id": "22c309dd",
   "metadata": {},
   "outputs": [],
   "source": [
    "## gradient boosting is our final model"
   ]
  },
  {
   "cell_type": "code",
   "execution_count": 281,
   "id": "f6b22e5c",
   "metadata": {},
   "outputs": [],
   "source": [
    "## finalized model"
   ]
  },
  {
   "cell_type": "code",
   "execution_count": 282,
   "id": "af49f28d",
   "metadata": {},
   "outputs": [],
   "source": [
    "params={'n_estimators':[100, 300, 500, 700],\n",
    "        'min_samples_split':[1,2,3,4],\n",
    "        'min_samples_leaf':[1,2,3,4],\n",
    "            'max_depth':[None,1,2,3,4,5,6,7,8],'alpha':[0.01,0.1]}"
   ]
  },
  {
   "cell_type": "code",
   "execution_count": 283,
   "id": "fe871e6b",
   "metadata": {},
   "outputs": [
    {
     "data": {
      "text/plain": [
       "RandomizedSearchCV(cv=10, estimator=GradientBoostingRegressor(),\n",
       "                   param_distributions={'alpha': [0.01, 0.1],\n",
       "                                        'max_depth': [None, 1, 2, 3, 4, 5, 6, 7,\n",
       "                                                      8],\n",
       "                                        'min_samples_leaf': [1, 2, 3, 4],\n",
       "                                        'min_samples_split': [1, 2, 3, 4],\n",
       "                                        'n_estimators': [100, 300, 500, 700]})"
      ]
     },
     "execution_count": 283,
     "metadata": {},
     "output_type": "execute_result"
    }
   ],
   "source": [
    "g=RandomizedSearchCV(GradientBoostingRegressor(),params,cv=10)\n",
    "g.fit(xtrain,ytrain)"
   ]
  },
  {
   "cell_type": "code",
   "execution_count": 284,
   "id": "2404b707",
   "metadata": {},
   "outputs": [
    {
     "name": "stdout",
     "output_type": "stream",
     "text": [
      "GradientBoostingRegressor(alpha=0.01, max_depth=4, min_samples_leaf=3)\n",
      "{'n_estimators': 100, 'min_samples_split': 2, 'min_samples_leaf': 3, 'max_depth': 4, 'alpha': 0.01}\n",
      "0.5768435855417933\n"
     ]
    }
   ],
   "source": [
    "print(g.best_estimator_)\n",
    "print(g.best_params_)\n",
    "print(g.best_score_)"
   ]
  },
  {
   "cell_type": "code",
   "execution_count": 285,
   "id": "eb63af82",
   "metadata": {},
   "outputs": [],
   "source": [
    "m=GradientBoostingRegressor(max_depth=100, min_samples_leaf=3, min_samples_split=2,n_estimators=100,alpha=0.01)\n",
    "m.fit(xtrain,ytrain)\n",
    "p=m.predict(xtest)\n",
    "score=cross_val_score(m,x,y,cv=10)"
   ]
  },
  {
   "cell_type": "code",
   "execution_count": 286,
   "id": "bb5953cf",
   "metadata": {},
   "outputs": [
    {
     "name": "stdout",
     "output_type": "stream",
     "text": [
      "Mean Absolute Error is 0.0377\n",
      "Mean Squared Error is 0.0023\n",
      "Root Mean Squared Error is 0.0477\n",
      "R2 Score is 50.12\n",
      "Mean of cross validaton Score is -38.2004\n"
     ]
    }
   ],
   "source": [
    "print('Mean Absolute Error is',np.round(mean_absolute_error(p,ytest),4))\n",
    "print('Mean Squared Error is',np.round(mean_squared_error(p,ytest),4))\n",
    "print('Root Mean Squared Error is',np.round(np.sqrt(mean_squared_error(p,ytest)),4))\n",
    "print('R2 Score is',np.round(r2_score(p,ytest),4)*100)\n",
    "print('Mean of cross validaton Score is',np.round(np.mean(score)*100,4))"
   ]
  },
  {
   "cell_type": "code",
   "execution_count": 287,
   "id": "ddcdd7fc",
   "metadata": {},
   "outputs": [
    {
     "data": {
      "text/plain": [
       "Text(0.5, 1.0, 'GradientBoostingRegressor')"
      ]
     },
     "execution_count": 287,
     "metadata": {},
     "output_type": "execute_result"
    },
    {
     "data": {
      "image/png": "[encoded data removed]",
      "text/plain": [
       "<Figure size 432x288 with 1 Axes>"
      ]
     },
     "metadata": {
      "needs_background": "light"
     },
     "output_type": "display_data"
    }
   ],
   "source": [
    "plt.scatter(x=ytest,y=p,color='r')\n",
    "plt.plot(ytest,ytest,color='b')\n",
    "plt.xlabel('Actual Average Price')\n",
    "plt.ylabel('Predicted Average Price')\n",
    "plt.title('GradientBoostingRegressor')"
   ]
  },
  {
   "cell_type": "code",
   "execution_count": 288,
   "id": "88e1eceb",
   "metadata": {},
   "outputs": [],
   "source": [
    "##saving the model"
   ]
  },
  {
   "cell_type": "code",
   "execution_count": 290,
   "id": "11c8512c",
   "metadata": {},
   "outputs": [],
   "source": [
    "import joblib\n",
    "joblib.dump(model,'avacadoprice.obj')"
   ]
  },
  {
   "cell_type": "code",
   "execution_count": null,
   "id": "dfdf5a15",
   "metadata": {},
   "outputs": [],
   "source": []
  }
 ],
 "metadata": {
  "kernelspec": {
   "display_name": "Python 3 (ipykernel)",
   "language": "python",
   "name": "python3"
  },
  "language_info": {
   "codemirror_mode": {
    "name": "ipython",
    "version": 3
   },
   "file_extension": ".py",
   "mimetype": "text/x-python",
   "name": "python",
   "nbconvert_exporter": "python",
   "pygments_lexer": "ipython3",
   "version": "3.9.12"
  }
 },
 "nbformat": 4,
 "nbformat_minor": 5
}
